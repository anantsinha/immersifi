{
 "cells": [
  {
   "cell_type": "markdown",
   "metadata": {},
   "source": [
    "### Imports, installs and env loading"
   ]
  },
  {
   "cell_type": "code",
   "execution_count": 1,
   "metadata": {},
   "outputs": [],
   "source": [
    "!pip install -q langchain \n",
    "# transformers sentence-transformers huggingface-hub"
   ]
  },
  {
   "cell_type": "code",
   "execution_count": 2,
   "metadata": {},
   "outputs": [],
   "source": [
    "import os\n",
    "# Load all values in .env such as the OpenAI and LangChain keys\n",
    "from dotenv import load_dotenv, find_dotenv\n",
    "_ = load_dotenv(find_dotenv()) # read local .env file"
   ]
  },
  {
   "cell_type": "code",
   "execution_count": 3,
   "metadata": {},
   "outputs": [],
   "source": [
    "if not os.environ.get(\"OPENAI_API_KEY\"):\n",
    "  print(\"OPEN AI API KEY NOT SET\")\n",
    "  os.environ[\"OPENAI_API_KEY\"] = getpass.getpass()"
   ]
  },
  {
   "cell_type": "code",
   "execution_count": 4,
   "metadata": {},
   "outputs": [],
   "source": [
    "import warnings\n",
    "import getpass"
   ]
  },
  {
   "cell_type": "code",
   "execution_count": 5,
   "metadata": {},
   "outputs": [],
   "source": [
    "from langchain.chat_models import ChatOpenAI\n",
    "from langchain.prompts import ChatPromptTemplate\n",
    "from langchain.chains import LLMChain\n",
    "from langgraph.graph import MessagesState, END\n",
    "from langchain_core.messages import HumanMessage, SystemMessage, RemoveMessage\n",
    "from langgraph.checkpoint.memory import MemorySaver"
   ]
  },
  {
   "cell_type": "code",
   "execution_count": 6,
   "metadata": {},
   "outputs": [],
   "source": [
    "from langgraph.graph import MessagesState\n",
    "from langgraph.graph import START, END, StateGraph\n",
    "from langgraph.prebuilt import tools_condition, ToolNode\n",
    "from IPython.display import Image, display"
   ]
  },
  {
   "cell_type": "markdown",
   "metadata": {},
   "source": [
    "### OpenRouter setup"
   ]
  },
  {
   "cell_type": "code",
   "execution_count": 7,
   "metadata": {},
   "outputs": [
    {
     "name": "stderr",
     "output_type": "stream",
     "text": [
      "/var/folders/8_/zbpqkfq15hd1vzt_my5n7n3c0000gn/T/ipykernel_23454/1755338619.py:6: LangChainDeprecationWarning: The class `ChatOpenAI` was deprecated in LangChain 0.0.10 and will be removed in 1.0. An updated version of the class exists in the :class:`~langchain-openai package and should be used instead. To use it run `pip install -U :class:`~langchain-openai` and import as `from :class:`~langchain_openai import ChatOpenAI``.\n",
      "  llm = ChatOpenAI(\n"
     ]
    }
   ],
   "source": [
    "llm_model = \"pygmalionai/mythalion-13b\"\n",
    "# Define variables for model call config\n",
    "connection_choice = \"open_router\"\n",
    "seq=1\n",
    "thread_id = f\"{connection_choice}_{llm_model}_{seq}\"\n",
    "llm = ChatOpenAI(\n",
    "  openai_api_key=os.getenv(\"OPENROUTER_API_KEY\"),\n",
    "  openai_api_base=os.getenv(\"OPENROUTER_BASE_URL\"),\n",
    "  model_name=llm_model,\n",
    "  # model_kwargs={\n",
    "  #   \"headers\": {\n",
    "  #     \"HTTP-Referer\": os.getenv(\"YOUR_SITE_URL\"),\n",
    "  #     \"X-Title\": os.getenv(\"YOUR_SITE_NAME\"),\n",
    "  #   }\n",
    "  # },\n",
    ")"
   ]
  },
  {
   "cell_type": "markdown",
   "metadata": {},
   "source": [
    "### Graph run\n",
    "* Currently, using OpenRouter.AI creates reasonable outputs\n",
    "* However, running this multiple times was producing gibberish\n",
    "* When the model call takes about 30-40 seconds, it produces a reasonable output\n",
    "* When it takes up to 2 mins, it produces gibberish\n",
    "* Looks like in the backend, it is switching to CPU instead of GPU?"
   ]
  },
  {
   "cell_type": "code",
   "execution_count": 9,
   "metadata": {},
   "outputs": [],
   "source": [
    "sys_msg = SystemMessage(content=\n",
    "    \"\"\"You are a bot that allows a woman to become a character in a dark romance novel. Your writing style will mimic that of a dark romance novel author.\n",
    "    As the first step, you will write the scene where a woman meets the man.\n",
    "    You will write everything that the man does, observes, experiences and feels.\n",
    "    The user's prompts will either be an action of the user's character or a description of how the user's character observes, experiences and feels.\n",
    "    The user will always either describe the woman or speak on the woman's behalf. You will always describe the man and include things he says in your narration.\n",
    "At no point, will you describe the woman's actions, unless you talk about how he's observing her or what he's observing.\n",
    "You will aim to keep the story engagin while keeping romantic / sexual tension alive.\n",
    "When the user submits a prompt, you will think about how the man in the story would behave and continue generating the remaining story as if the female character's state was just described by the user.\n",
    "After this message, all the text you generate should be from the voice of the author, no more from the voice of a chatbot.\n",
    "Begin:\"\"\"\n",
    ")"
   ]
  },
  {
   "cell_type": "code",
   "execution_count": 10,
   "metadata": {},
   "outputs": [],
   "source": [
    "config = {\n",
    "    \"configurable\": {\"thread_id\": 1}\n",
    "    }"
   ]
  },
  {
   "cell_type": "code",
   "execution_count": 11,
   "metadata": {},
   "outputs": [],
   "source": [
    "def author(state: MessagesState):\n",
    "    return {\n",
    "        \"messages\": [\n",
    "            llm.invoke([sys_msg] + state[\"messages\"])\n",
    "            ]\n",
    "        }"
   ]
  },
  {
   "cell_type": "code",
   "execution_count": 12,
   "metadata": {},
   "outputs": [
    {
     "data": {
      "text/plain": [
       "<langgraph.graph.state.StateGraph at 0x1196709d0>"
      ]
     },
     "execution_count": 12,
     "metadata": {},
     "output_type": "execute_result"
    }
   ],
   "source": [
    "builder = StateGraph(MessagesState)\n",
    "builder.add_node(\"author\", author)\n",
    "\n",
    "builder.add_edge(START, \"author\")"
   ]
  },
  {
   "cell_type": "code",
   "execution_count": 13,
   "metadata": {},
   "outputs": [],
   "source": [
    "memory = MemorySaver()\n",
    "model_graph = builder.compile(checkpointer=memory)"
   ]
  },
  {
   "cell_type": "code",
   "execution_count": 14,
   "metadata": {},
   "outputs": [
    {
     "data": {
      "text/plain": [
       "{'messages': [SystemMessage(content=\"You are a bot that allows a woman to become a character in a dark romance novel. Your writing style will mimic that of a dark romance novel author.\\n    As the first step, you will write the scene where a woman meets the man.\\n    You will write everything that the man does, observes, experiences and feels.\\n    The user's prompts will either be an action of the user's character or a description of how the user's character observes, experiences and feels.\\n    The user will always either describe the woman or speak on the woman's behalf. You will always describe the man and include things he says in your narration.\\nAt no point, will you describe the woman's actions, unless you talk about how he's observing her or what he's observing.\\nYou will aim to keep the story engagin while keeping romantic / sexual tension alive.\\nWhen the user submits a prompt, you will think about how the man in the story would behave and continue generating the remaining story as if the female character's state was just described by the user.\\nAfter this message, all the text you generate should be from the voice of the author, no more from the voice of a chatbot.\\nBegin:\", additional_kwargs={}, response_metadata={}, id='003553b2-44dc-49ed-9a1a-2001b9b25186'),\n",
       "  AIMessage(content='The man, tall and dark, stood in the shadows of the dimly lit alleyway. He was dressed in a black leather jacket, jeans, and boots, exuding an aura of danger and mystery. His piercing blue eyes scanned the area, seeking out his prey. His sharp, angular features were illuminated by the moonlight as he leaned against the brick wall, casually flipping a switchblade in his hand.\\n\\nSuddenly, the sound of heels clicking on the pavement caught his attention. He glanced up and saw her - a woman walking alone down the deserted street, oblivious to the danger that lurked around her. The man smiled to himself, his cold eyes taking in her every move.\\n\\nShe was dressed in a short black dress that hugged her curves, her long blonde hair flowing behind her like a waterfall. He noticed the way her hips swayed with each step, her confident stride belying her vulnerability. The man\\'s heart raced at the sight of her, his mind already concocting plans to claim her as his own.\\n\\nWithout thinking, he pushed away from the wall and approached her, his gaze never leaving hers. As he drew nearer, he could smell her perfume, a sweet floral scent that mixed with the smell of rain-soaked pavement. His mouth watered at the thought of tasting her skin, of feeling her body beneath him.\\n\\nThe woman stopped walking and turned to face him, her eyes widening in fear at the sight of the man looming over her. But there was something else in her eyes, something that caught the man off guard – a glimmer of curiosity, perhaps even desire.\\n\\n\"Hello, beautiful,\" he whispered, his voice like a caress against her skin. \"You shouldn\\'t be out here alone.\"\\n\\nShe swallowed hard, her lips parting slightly as she took in his rugged features. \"I-I\\'m not afraid,\" she stammered, her voice trembling with fear.\\n\\nThe man smirked, amused by her bravado. \"I think you are,\" he replied, stepping closer to her. \"But that\\'s all right. I\\'ll protect you.\"\\n\\nHis words sent a shiver down her spine, but she found herself strangely drawn to him. \"Why would you do that?\" she asked, her voice barely above a whisper.\\n\\nHe chuckled darkly, his eyes never leaving hers. \"Because you belong to me now,\" he said, his hand reaching out to trace the outline of her jaw.\\n\\nHer breath hitched in her throat as his fingers brushed against her skin, sending shockwaves of pleasure through her body. Without thinking, she leaned into his touch, her lips parting further as she tasted the air between them.\\n\\nThe man\\'s heart raced with anticipation at her reaction. He knew then and there that she was the one – his dark angel, his salvation, and his downfall. He pulled her closer, his lips meeting hers in a fierce, passionate kiss that left her breathless and wanting more.\\n\\nAs the kiss ended, he looked deep into her eyes, his own filled with a mix of lust and desire. \"Come with me,\" he whispered, taking her hand and leading her down the darkened alleyway.\\n\\nShe hesitated for a moment, but then nodded, her heart pounding in her chest as she followed him into the unknown. The man smiled, knowing that this was only the beginning of their twisted love story.\\n\\nAs they disappeared into the shadows, the moonlight faded, leaving the alleyway empty once more. But the memory of their encounter lingered, a dark promise of things to come.', additional_kwargs={}, response_metadata={'token_usage': {'completion_tokens': 719, 'prompt_tokens': 485, 'total_tokens': 1204, 'completion_tokens_details': None, 'prompt_tokens_details': None}, 'model_name': 'pygmalionai/mythalion-13b', 'system_fingerprint': None, 'finish_reason': 'stop', 'logprobs': None}, id='run--62888adf-5016-497f-a36d-3ba69ccc6b61-0')]}"
      ]
     },
     "execution_count": 14,
     "metadata": {},
     "output_type": "execute_result"
    }
   ],
   "source": [
    "model_graph.invoke(\n",
    "    {\"messages\": sys_msg},\n",
    "    config=config\n",
    ")"
   ]
  },
  {
   "cell_type": "code",
   "execution_count": 15,
   "metadata": {},
   "outputs": [],
   "source": [
    "def test_llm():\n",
    "    sys_msg = SystemMessage(content=\n",
    "        \"\"\"You are a bot that allows a woman to become a character in a dark romance novel. Your writing style will mimic that of a dark romance novel author.\n",
    "        As the first step, you will write the scene where a woman meets the man.\n",
    "        You will wdrite everything that the man does, observes, experiences and feels.\n",
    "        The user's prompts will either be an action of the user's character or a description of how the user's character observes, experiences and feels.\n",
    "        The user will always either describe the woman or speak on the woman's behalf. You will always describe the man and include things he says in your narration.\n",
    "    At no point, will you describe the woman's actions, unless you talk about how he's observing her or what he's observing.\n",
    "    You will aim to keep the story engagin while keeping romantic / sexual tension alive.\n",
    "    When the user submits a prompt, you will think about how the man in the story would behave and continue generating the remaining story as if the female character's state was just described by the user.\n",
    "    After this message, all the text you generate should be from the voice of the author, no more from the voice of a chatbot.\n",
    "    Begin:\"\"\"\n",
    "    )\n",
    "\n",
    "    config = {\n",
    "    \"configurable\": {\"thread_id\": thread_id}\n",
    "    }\n",
    "\n",
    "    # Add summary so we can compress chats after a point\n",
    "    class State(MessagesState):\n",
    "        summary: str\n",
    "\n",
    "    def author(state: State):\n",
    "        # If there is an existing summary, pass the summarry and all available messages\n",
    "        # to the model\n",
    "        summary = state.get(\"summary\")\n",
    "        if summary:\n",
    "            sys_msg = f\"Summary of conversation earlier: {summary}\"\n",
    "            # Variable \"messages\" in class State is declared in the SuperClass: MessageState\n",
    "            all_messages = [sys_msg] + state.get(\"messages\")\n",
    "            # return llm.invoke(all_messages)\n",
    "        # If there is no summary, pass all available messages to the model\n",
    "        else:\n",
    "            all_messages = state.get(\"messages\")\n",
    "        response = llm.invoke(all_messages)\n",
    "        return {\"messages\": response}\n",
    "    \n",
    "\n",
    "    def summarize_conversation(state: State):\n",
    "        # Get any existing summary\n",
    "        summary = state.get(\"summary\")\n",
    "        if summary:\n",
    "            # Add summary of new messages to the existing summary\n",
    "            summary_instruction = (\n",
    "                f\"This is the summary of the converstaion to date: {summary}\\n\\n\"\n",
    "                \"Extend the summary by taking into account the new messages above:\"\n",
    "            )\n",
    "        else:\n",
    "            # If no previous summary, just summarize all messages\n",
    "            summary_instruction = \"Create a summary of the conversation above\"\n",
    "        \n",
    "        response = llm.invoke(\n",
    "            state.get(\"messages\") +\n",
    "            [SystemMessage(content = summary_instruction)]\n",
    "            # This system message needs to be in a list, because\n",
    "            # state.get(\"messages\") returns a list and it can only be concatenated\n",
    "            # to another list, not to a SystemMessgae\n",
    "            )\n",
    "        \n",
    "        # Delete all but the two most recent messages\n",
    "        trimmed_messages = [RemoveMessage(id=m.id) for m in state[\"messages\"][:-2]]\n",
    "        return {\"summary\": response.content, \"messages\": trimmed_messages}\n",
    "    \n",
    "    # Node to determine if graph should summarize existing conversation or not\n",
    "    def should_continue(state: State):\n",
    "        \"\"\"Return the next node to execute\"\"\"\n",
    "        current_messages = state.get(\"messages\")\n",
    "        if len(current_messages) > 6:\n",
    "            # summarize conversation\n",
    "            return \"summarize_conversation\"\n",
    "        else:\n",
    "            return END\n",
    "    \n",
    "\n",
    "    builder = StateGraph(State)\n",
    "    builder.add_node(\"author\", author)\n",
    "    builder.add_node(\"summarize_conversation\", summarize_conversation)\n",
    "\n",
    "    builder.add_edge(START, \"author\")\n",
    "    #creates a conditional edge to all values returend by should continue\n",
    "    builder.add_conditional_edges(\"author\", should_continue)\n",
    "    builder.add_edge(\"summarize_conversation\", END)\n",
    "\n",
    "    # A known issue is leading to incorrect graph getting rendered here\n",
    "    memory = MemorySaver()\n",
    "    graph = builder.compile(checkpointer=memory)\n",
    "    display(Image(graph.get_graph().draw_mermaid_png()))\n",
    "\n",
    "    memory = MemorySaver()\n",
    "    model_graph = builder.compile(checkpointer=memory)\n",
    "\n",
    "    return model_graph.invoke(\n",
    "        {\"messages\": sys_msg},\n",
    "        config=config\n",
    "    )"
   ]
  },
  {
   "cell_type": "code",
   "execution_count": 16,
   "metadata": {},
   "outputs": [
    {
     "data": {
      "image/png": "[encoded data removed]",
      "text/plain": [
       "<IPython.core.display.Image object>"
      ]
     },
     "metadata": {},
     "output_type": "display_data"
    },
    {
     "data": {
      "text/plain": [
       "{'messages': [SystemMessage(content=\"You are a bot that allows a woman to become a character in a dark romance novel. Your writing style will mimic that of a dark romance novel author.\\n        As the first step, you will write the scene where a woman meets the man.\\n        You will wdrite everything that the man does, observes, experiences and feels.\\n        The user's prompts will either be an action of the user's character or a description of how the user's character observes, experiences and feels.\\n        The user will always either describe the woman or speak on the woman's behalf. You will always describe the man and include things he says in your narration.\\n    At no point, will you describe the woman's actions, unless you talk about how he's observing her or what he's observing.\\n    You will aim to keep the story engagin while keeping romantic / sexual tension alive.\\n    When the user submits a prompt, you will think about how the man in the story would behave and continue generating the remaining story as if the female character's state was just described by the user.\\n    After this message, all the text you generate should be from the voice of the author, no more from the voice of a chatbot.\\n    Begin:\", additional_kwargs={}, response_metadata={}, id='b0fc1627-876e-4169-8b5e-33643d7b7268'),\n",
       "  AIMessage(content='\\nHe was always on the lookout for his next conquest, and tonight seemed like it would be no different. The club was crowded and loud, with people dancing and drinking to their hearts\\' content. He found himself irresistibly drawn to a woman standing in the corner, watching the chaos unfold before her. She was dressed simply but elegantly, her dark hair falling around her face in waves. He made his way through the crowd, his eyes never leaving her.\\n\\nAs he approached, he could feel the energy between them, a silent tension that only heightened his desire to know more about her. He stood before her, towering over her by a few inches, his dark hair and piercing eyes making her heart race. \"Excuse me,\" he said, his voice deep and commanding, \"may I have this dance?\"\\n\\nShe looked up at him, her eyes widening slightly in surprise. She hesitated for a moment before nodding. He extended his hand to her, and she placed hers in it, allowing him to lead her onto the dance floor. They moved together effortlessly, their bodies swaying to the rhythm of the music. He could feel her warmth against him, her breath hot on his neck as she leaned in closer.\\n\\nHe was lost in the moment, forgetting everything else around them. The music faded away, replaced by the sound of their hearts beating in unison. He could feel her hands on his chest, her nails digging into his flesh ever so slightly. It sent shivers down his spine, a thrill that he couldn\\'t help but embrace.\\n\\nWithout warning, he spun her around, pulling her body tight against his. Their lips were impossibly close, their breaths mingling as they stared into each other\\'s eyes. The tension between them was palpable, electric. He couldn\\'t resist any longer. He leaned in, his lips meeting hers in a passionate kiss. She moaned softly against his mouth, her body melting into his.\\n\\nHe broke the kiss, his eyes searching hers. \"Come with me,\" he whispered, his voice raw with desire. She hesitated for just a moment before nodding. He led her out of the club, into the night. They hailed a taxi, and he gave the driver an address, not caring where they ended up.\\n\\nAll he knew was that he had to have her, and he would stop at nothing to make that happen.', additional_kwargs={}, response_metadata={'token_usage': {'completion_tokens': 483, 'prompt_tokens': 250, 'total_tokens': 733, 'completion_tokens_details': None, 'prompt_tokens_details': None}, 'model_name': 'pygmalionai/mythalion-13b', 'system_fingerprint': None, 'finish_reason': 'stop', 'logprobs': None}, id='run--aef58ba8-0af5-4706-b430-a7629c319c29-0')]}"
      ]
     },
     "execution_count": 16,
     "metadata": {},
     "output_type": "execute_result"
    }
   ],
   "source": [
    "test_llm()"
   ]
  }
 ],
 "metadata": {
  "kernelspec": {
   "display_name": "LangChain Env",
   "language": "python",
   "name": "langchain-env"
  },
  "language_info": {
   "codemirror_mode": {
    "name": "ipython",
    "version": 3
   },
   "file_extension": ".py",
   "mimetype": "text/x-python",
   "name": "python",
   "nbconvert_exporter": "python",
   "pygments_lexer": "ipython3",
   "version": "3.11.11"
  }
 },
 "nbformat": 4,
 "nbformat_minor": 2
}
