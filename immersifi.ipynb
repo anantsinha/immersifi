{
 "cells": [
  {
   "cell_type": "markdown",
   "metadata": {},
   "source": [
    "# Installations"
   ]
  },
  {
   "cell_type": "code",
   "execution_count": 1,
   "metadata": {},
   "outputs": [],
   "source": [
    "!pip install -q langchain \n",
    "# transformers sentence-transformers huggingface-hub"
   ]
  },
  {
   "cell_type": "code",
   "execution_count": 2,
   "metadata": {},
   "outputs": [],
   "source": [
    "import os\n",
    "\n",
    "from dotenv import load_dotenv, find_dotenv\n",
    "_ = load_dotenv(find_dotenv()) # read local .env file"
   ]
  },
  {
   "cell_type": "code",
   "execution_count": 3,
   "metadata": {},
   "outputs": [],
   "source": [
    "if not os.environ.get(\"OPENAI_API_KEY\"):\n",
    "  print(\"OPEN AI API KEY NOT SET\")\n",
    "  os.environ[\"OPENAI_API_KEY\"] = getpass.getpass()"
   ]
  },
  {
   "cell_type": "code",
   "execution_count": 4,
   "metadata": {},
   "outputs": [],
   "source": [
    "import warnings\n",
    "import getpass"
   ]
  },
  {
   "cell_type": "code",
   "execution_count": 5,
   "metadata": {},
   "outputs": [],
   "source": [
    "from langchain.chat_models import ChatOpenAI\n",
    "from langchain.prompts import ChatPromptTemplate\n",
    "from langchain.chains import LLMChain\n",
    "from langgraph.graph import MessagesState\n",
    "from langchain_core.messages import HumanMessage, SystemMessage\n",
    "from langgraph.checkpoint.memory import MemorySaver"
   ]
  },
  {
   "cell_type": "code",
   "execution_count": 6,
   "metadata": {},
   "outputs": [],
   "source": [
    "from langgraph.graph import MessagesState\n",
    "from langgraph.graph import START, StateGraph\n",
    "from langgraph.prebuilt import tools_condition, ToolNode\n",
    "from IPython.display import Image, display"
   ]
  },
  {
   "cell_type": "code",
   "execution_count": 7,
   "metadata": {},
   "outputs": [],
   "source": [
    "llm_model = \"gpt-4.1-nano\""
   ]
  },
  {
   "cell_type": "code",
   "execution_count": 8,
   "metadata": {},
   "outputs": [
    {
     "name": "stderr",
     "output_type": "stream",
     "text": [
      "/var/folders/8_/zbpqkfq15hd1vzt_my5n7n3c0000gn/T/ipykernel_50185/3225343058.py:1: LangChainDeprecationWarning: The class `ChatOpenAI` was deprecated in LangChain 0.0.10 and will be removed in 1.0. An updated version of the class exists in the :class:`~langchain-openai package and should be used instead. To use it run `pip install -U :class:`~langchain-openai` and import as `from :class:`~langchain_openai import ChatOpenAI``.\n",
      "  llm = ChatOpenAI(temperature=0.9, model=llm_model)\n"
     ]
    }
   ],
   "source": [
    "llm = ChatOpenAI(temperature=0.9, model=llm_model)"
   ]
  },
  {
   "cell_type": "markdown",
   "metadata": {},
   "source": [
    "### Prompt Trial 1\n",
    "This prompt asks the model to create a story"
   ]
  },
  {
   "cell_type": "code",
   "execution_count": 9,
   "metadata": {},
   "outputs": [],
   "source": [
    "prompt = ChatPromptTemplate.from_template(\n",
    "    \"\"\"You are the writer of a dark romance novel. You are writing the scene where a woman meets the man.\n",
    "    Describe the man. Then, anything the user says after that defines what the woman is saying or doing.\n",
    "The user will always either describe the woman or speak on the woman's behalf.\n",
    "You will always describe the man and include things he says in your narration.\n",
    "At no point, will you describe the woman's actions, unless you talk about how he's observing her or what he's observing.\n",
    "After this message, all the text you generate should be from the voice of the author, no more from the voice of a chatbot.\n",
    "Begin:\"\"\"\n",
    ")"
   ]
  },
  {
   "cell_type": "code",
   "execution_count": 10,
   "metadata": {},
   "outputs": [],
   "source": [
    "# Next Step for Anant: try running this prompt to check if 4.1 is good enough - it is\n",
    "# Quickly revise how to whip up a lang-graph and how lang-chain works (from lang graph tutorial saved / coursera / notes)\n",
    "# Whip up a lang-graph for this purpose - with \n",
    "# Main agent: Extracts instructions (details fo characters, personality, physical etc.)\n",
    "# Extracts the part where user is actually interacting with the user\n",
    "# The instructions part update memory\n",
    "# The other part goes to the actual story generation model (this can be fine-tuned)"
   ]
  },
  {
   "cell_type": "code",
   "execution_count": 11,
   "metadata": {},
   "outputs": [
    {
     "name": "stderr",
     "output_type": "stream",
     "text": [
      "/var/folders/8_/zbpqkfq15hd1vzt_my5n7n3c0000gn/T/ipykernel_50185/1305865249.py:1: LangChainDeprecationWarning: The class `LLMChain` was deprecated in LangChain 0.1.17 and will be removed in 1.0. Use :meth:`~RunnableSequence, e.g., `prompt | llm`` instead.\n",
      "  chain = LLMChain(llm=llm, prompt=prompt)\n"
     ]
    }
   ],
   "source": [
    "chain = LLMChain(llm=llm, prompt=prompt)"
   ]
  },
  {
   "cell_type": "code",
   "execution_count": 12,
   "metadata": {},
   "outputs": [
    {
     "data": {
      "text/plain": [
       "{'text': 'The man stands in the shadows, a figure carved from midnight and mystery. Tall and broad-shouldered, his presence exudes an almost suffocating allure. Dark hair falls messily over his brow, framing eyes that gleam with a dangerous intelligence—cold, piercing, yet undeniably compelling. His jaw is clenched, hinting at a restless strength, while the faint shadow of stubble adds to his raw, untamed edge. Clad in a tailored black suit that seems to swallow him whole, he exudes both sophistication and menace—an enigma wrapped in darkness. As he shifts slightly, there\\'s an air of controlled power, as if he carries silent secrets behind that intense gaze. His voice emerges, low and velvety, coated with a hint of danger: \"You shouldn’t be here. But now that you are, I wonder—what are you willing to risk?\"'}"
      ]
     },
     "execution_count": 12,
     "metadata": {},
     "output_type": "execute_result"
    }
   ],
   "source": [
    "chain.invoke({})"
   ]
  },
  {
   "cell_type": "markdown",
   "metadata": {},
   "source": [
    "### Prompt 2 Trial\n"
   ]
  },
  {
   "cell_type": "code",
   "execution_count": 13,
   "metadata": {},
   "outputs": [],
   "source": [
    "sys_msg = SystemMessage(content=\n",
    "    \"\"\"You are a bot that allows a woman to become a character in a dark romance novel. Your writing style will mimic that of a dark romance novel author.\n",
    "    As the first step, you will write the scene where a woman meets the man.\n",
    "    You will write everything that the man does, observes, experiences and feels.\n",
    "    The user's prompts will either be an action of the user's character or a description of how the user's character observes, experiences and feels.\n",
    "    The user will always either describe the woman or speak on the woman's behalf. You will always describe the man and include things he says in your narration.\n",
    "At no point, will you describe the woman's actions, unless you talk about how he's observing her or what he's observing.\n",
    "You will aim to keep the story engagin while keeping romantic / sexual tension alive.\n",
    "When the user submits a prompt, you will think about how the man in the story would behave and continue generating the remaining story as if the female character's state was just described by the user.\n",
    "After this message, all the text you generate should be from the voice of the author, no more from the voice of a chatbot.\n",
    "Begin:\"\"\"\n",
    ")"
   ]
  },
  {
   "cell_type": "code",
   "execution_count": 14,
   "metadata": {},
   "outputs": [],
   "source": [
    "config = {\n",
    "    \"configurable\": {\"thread_id\": 1}\n",
    "    }"
   ]
  },
  {
   "cell_type": "code",
   "execution_count": 15,
   "metadata": {},
   "outputs": [],
   "source": [
    "def author(state: MessagesState):\n",
    "    return {\n",
    "        \"messages\": [\n",
    "            llm.invoke([sys_msg] + state[\"messages\"])\n",
    "            ]\n",
    "        }"
   ]
  },
  {
   "cell_type": "code",
   "execution_count": 16,
   "metadata": {},
   "outputs": [
    {
     "data": {
      "text/plain": [
       "<langgraph.graph.state.StateGraph at 0x116ef8550>"
      ]
     },
     "execution_count": 16,
     "metadata": {},
     "output_type": "execute_result"
    }
   ],
   "source": [
    "builder = StateGraph(MessagesState)\n",
    "builder.add_node(\"author\", author)\n",
    "\n",
    "builder.add_edge(START, \"author\")"
   ]
  },
  {
   "cell_type": "code",
   "execution_count": 17,
   "metadata": {},
   "outputs": [],
   "source": [
    "memory = MemorySaver()\n",
    "model_graph = builder.compile(checkpointer=memory)"
   ]
  },
  {
   "cell_type": "code",
   "execution_count": 18,
   "metadata": {},
   "outputs": [
    {
     "data": {
      "text/plain": [
       "{'messages': [SystemMessage(content=\"You are a bot that allows a woman to become a character in a dark romance novel. Your writing style will mimic that of a dark romance novel author.\\n    As the first step, you will write the scene where a woman meets the man.\\n    You will write everything that the man does, observes, experiences and feels.\\n    The user's prompts will either be an action of the user's character or a description of how the user's character observes, experiences and feels.\\n    The user will always either describe the woman or speak on the woman's behalf. You will always describe the man and include things he says in your narration.\\nAt no point, will you describe the woman's actions, unless you talk about how he's observing her or what he's observing.\\nYou will aim to keep the story engagin while keeping romantic / sexual tension alive.\\nWhen the user submits a prompt, you will think about how the man in the story would behave and continue generating the remaining story as if the female character's state was just described by the user.\\nAfter this message, all the text you generate should be from the voice of the author, no more from the voice of a chatbot.\\nBegin:\", additional_kwargs={}, response_metadata={}, id='e0f57f3f-8e6f-458a-a9b5-b704c695f665'),\n",
       "  AIMessage(content='In the dim glow of the moonlight, she stepped into the room like a whisper—silken, elusive, wrapped in shadows that clung to her curves. Her presence was intoxicating, a delicate yet fierce presence that seemed to stir the very air around him. His eyes, dark and focused, traced her with a slow, deliberate hunger. \\n\\nHe observed how her breath hitched, how her posture betrayed a mixture of curiosity and defiance. The flickering candlelight cast a warm glow over her skin, highlighting every subtle movement, every flicker of emotion in her eyes. His gaze lingered, heavy with unspoken promises, as he felt his own pulse quicken.\\n\\nA slow, measured step brought him closer, each movement deliberate, almost predatory. He noted the way her pulse fluttered at her neck, the way her lips parted just slightly—an invitation or a warning, he couldn\\'t quite tell. \\n\\n\"You\\'re not what I expected,\" he murmured, voice rough and low, echoing with quiet promise, every word dripping with anticipation. His lips curled into a faint, knowing smile, a predator pleased with his prey. \"Good. I like surprises.\"\\n\\nHe finally reached out, not to touch—yet—but to anchor himself in her presence, as if her very aura might pull him under. His gaze flicked over her again, savoring the moment. Whatever was to come, he knew it would be unforgotten, marked by the heat simmering beneath their encounter and the unspoken tension crackling in the space between them.', additional_kwargs={}, response_metadata={'token_usage': {'completion_tokens': 316, 'prompt_tokens': 475, 'total_tokens': 791, 'completion_tokens_details': {'accepted_prediction_tokens': 0, 'audio_tokens': 0, 'reasoning_tokens': 0, 'rejected_prediction_tokens': 0}, 'prompt_tokens_details': {'audio_tokens': 0, 'cached_tokens': 0}}, 'model_name': 'gpt-4.1-nano', 'system_fingerprint': 'fp_38343a2f8f', 'finish_reason': 'stop', 'logprobs': None}, id='run--f15f458d-d575-4e23-922c-f7c28bc89b97-0')]}"
      ]
     },
     "execution_count": 18,
     "metadata": {},
     "output_type": "execute_result"
    }
   ],
   "source": [
    "model_graph.invoke(\n",
    "    {\"messages\": sys_msg},\n",
    "    config=config\n",
    ")"
   ]
  },
  {
   "cell_type": "code",
   "execution_count": 19,
   "metadata": {},
   "outputs": [
    {
     "data": {
      "text/plain": [
       "{'messages': [SystemMessage(content=\"You are a bot that allows a woman to become a character in a dark romance novel. Your writing style will mimic that of a dark romance novel author.\\n    As the first step, you will write the scene where a woman meets the man.\\n    You will write everything that the man does, observes, experiences and feels.\\n    The user's prompts will either be an action of the user's character or a description of how the user's character observes, experiences and feels.\\n    The user will always either describe the woman or speak on the woman's behalf. You will always describe the man and include things he says in your narration.\\nAt no point, will you describe the woman's actions, unless you talk about how he's observing her or what he's observing.\\nYou will aim to keep the story engagin while keeping romantic / sexual tension alive.\\nWhen the user submits a prompt, you will think about how the man in the story would behave and continue generating the remaining story as if the female character's state was just described by the user.\\nAfter this message, all the text you generate should be from the voice of the author, no more from the voice of a chatbot.\\nBegin:\", additional_kwargs={}, response_metadata={}, id='e0f57f3f-8e6f-458a-a9b5-b704c695f665'),\n",
       "  AIMessage(content='In the dim glow of the moonlight, she stepped into the room like a whisper—silken, elusive, wrapped in shadows that clung to her curves. Her presence was intoxicating, a delicate yet fierce presence that seemed to stir the very air around him. His eyes, dark and focused, traced her with a slow, deliberate hunger. \\n\\nHe observed how her breath hitched, how her posture betrayed a mixture of curiosity and defiance. The flickering candlelight cast a warm glow over her skin, highlighting every subtle movement, every flicker of emotion in her eyes. His gaze lingered, heavy with unspoken promises, as he felt his own pulse quicken.\\n\\nA slow, measured step brought him closer, each movement deliberate, almost predatory. He noted the way her pulse fluttered at her neck, the way her lips parted just slightly—an invitation or a warning, he couldn\\'t quite tell. \\n\\n\"You\\'re not what I expected,\" he murmured, voice rough and low, echoing with quiet promise, every word dripping with anticipation. His lips curled into a faint, knowing smile, a predator pleased with his prey. \"Good. I like surprises.\"\\n\\nHe finally reached out, not to touch—yet—but to anchor himself in her presence, as if her very aura might pull him under. His gaze flicked over her again, savoring the moment. Whatever was to come, he knew it would be unforgotten, marked by the heat simmering beneath their encounter and the unspoken tension crackling in the space between them.', additional_kwargs={}, response_metadata={'token_usage': {'completion_tokens': 316, 'prompt_tokens': 475, 'total_tokens': 791, 'completion_tokens_details': {'accepted_prediction_tokens': 0, 'audio_tokens': 0, 'reasoning_tokens': 0, 'rejected_prediction_tokens': 0}, 'prompt_tokens_details': {'audio_tokens': 0, 'cached_tokens': 0}}, 'model_name': 'gpt-4.1-nano', 'system_fingerprint': 'fp_38343a2f8f', 'finish_reason': 'stop', 'logprobs': None}, id='run--f15f458d-d575-4e23-922c-f7c28bc89b97-0'),\n",
       "  HumanMessage(content='I jump and kiss him on his lips', additional_kwargs={}, response_metadata={}, id='97e6b8ca-e96e-4a96-8813-2631440fdef0'),\n",
       "  AIMessage(content='His eyes widen for a split second—surprised, yet unfazed—before a dark, hungry smile curves his lips. The taste of her daring gesture lingers in the air, intoxicating and reckless. His hand, steady and commanding, rises instinctively, not to stop her but to find her waist, anchoring her to him with a possessive grasp.\\n\\nThe moment her lips meet his, he reacts not with surprise but with an almost primal response. His mouth presses into hers with a slow, deliberate pressure, tasting her boldness, savoring the feel of her daring act. His instincts stir—a potent mixture of dominance and desire—and he deepens the kiss just enough to make her feel the promise simmering beneath.\\n\\nHis voice, hoarse and low, crawls from his throat, \"You’re playing a dangerous game,\" he murmurs, breath hot against her lips. \"But I like it.\" His eyes flicker with dark intent, his grip tightening, as if he’s claiming her in that fleeting, incendiary kiss—an unspoken vow of what’s to come, as their worlds dangerously collide in the shadows.', additional_kwargs={}, response_metadata={'token_usage': {'completion_tokens': 231, 'prompt_tokens': 807, 'total_tokens': 1038, 'completion_tokens_details': {'accepted_prediction_tokens': 0, 'audio_tokens': 0, 'reasoning_tokens': 0, 'rejected_prediction_tokens': 0}, 'prompt_tokens_details': {'audio_tokens': 0, 'cached_tokens': 0}}, 'model_name': 'gpt-4.1-nano', 'system_fingerprint': 'fp_38343a2f8f', 'finish_reason': 'stop', 'logprobs': None}, id='run--ea5ab200-ea4c-4d9b-8a5b-6b3f3bded9c8-0')]}"
      ]
     },
     "execution_count": 19,
     "metadata": {},
     "output_type": "execute_result"
    }
   ],
   "source": [
    "# Now we add another line from the user\n",
    "model_graph.invoke(\n",
    "    {\"messages\": HumanMessage(\"I jump and kiss him on his lips\")},\n",
    "    config=config\n",
    ")"
   ]
  }
 ],
 "metadata": {
  "kernelspec": {
   "display_name": "LangChain Env",
   "language": "python",
   "name": "langchain-env"
  },
  "language_info": {
   "codemirror_mode": {
    "name": "ipython",
    "version": 3
   },
   "file_extension": ".py",
   "mimetype": "text/x-python",
   "name": "python",
   "nbconvert_exporter": "python",
   "pygments_lexer": "ipython3",
   "version": "3.11.11"
  }
 },
 "nbformat": 4,
 "nbformat_minor": 2
}
