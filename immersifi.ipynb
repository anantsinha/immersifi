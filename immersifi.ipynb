{
 "cells": [
  {
   "cell_type": "markdown",
   "metadata": {},
   "source": [
    "# Installations"
   ]
  },
  {
   "cell_type": "code",
   "execution_count": 1,
   "metadata": {},
   "outputs": [],
   "source": [
    "!pip install -q langchain \n",
    "# transformers sentence-transformers huggingface-hub"
   ]
  },
  {
   "cell_type": "code",
   "execution_count": 2,
   "metadata": {},
   "outputs": [],
   "source": [
    "import os\n",
    "# Load all values in .env such as the OpenAI and LangChain keys\n",
    "from dotenv import load_dotenv, find_dotenv\n",
    "_ = load_dotenv(find_dotenv()) # read local .env file"
   ]
  },
  {
   "cell_type": "code",
   "execution_count": 3,
   "metadata": {},
   "outputs": [],
   "source": [
    "if not os.environ.get(\"OPENAI_API_KEY\"):\n",
    "  print(\"OPEN AI API KEY NOT SET\")\n",
    "  os.environ[\"OPENAI_API_KEY\"] = getpass.getpass()"
   ]
  },
  {
   "cell_type": "code",
   "execution_count": 4,
   "metadata": {},
   "outputs": [],
   "source": [
    "import warnings\n",
    "import getpass"
   ]
  },
  {
   "cell_type": "code",
   "execution_count": 5,
   "metadata": {},
   "outputs": [],
   "source": [
    "from langchain.chat_models import ChatOpenAI\n",
    "from langchain.prompts import ChatPromptTemplate\n",
    "from langchain.chains import LLMChain\n",
    "from langgraph.graph import MessagesState, END\n",
    "from langchain_core.messages import HumanMessage, SystemMessage, RemoveMessage\n",
    "from langgraph.checkpoint.memory import MemorySaver"
   ]
  },
  {
   "cell_type": "code",
   "execution_count": 6,
   "metadata": {},
   "outputs": [],
   "source": [
    "from langgraph.graph import MessagesState\n",
    "from langgraph.graph import START, END, StateGraph\n",
    "from langgraph.prebuilt import tools_condition, ToolNode\n",
    "from IPython.display import Image, display"
   ]
  },
  {
   "cell_type": "code",
   "execution_count": 7,
   "metadata": {},
   "outputs": [],
   "source": [
    "llm_model = \"gpt-4.1-nano\""
   ]
  },
  {
   "cell_type": "code",
   "execution_count": 8,
   "metadata": {},
   "outputs": [
    {
     "name": "stderr",
     "output_type": "stream",
     "text": [
      "/var/folders/8_/zbpqkfq15hd1vzt_my5n7n3c0000gn/T/ipykernel_53537/3225343058.py:1: LangChainDeprecationWarning: The class `ChatOpenAI` was deprecated in LangChain 0.0.10 and will be removed in 1.0. An updated version of the class exists in the :class:`~langchain-openai package and should be used instead. To use it run `pip install -U :class:`~langchain-openai` and import as `from :class:`~langchain_openai import ChatOpenAI``.\n",
      "  llm = ChatOpenAI(temperature=0.9, model=llm_model)\n"
     ]
    }
   ],
   "source": [
    "llm = ChatOpenAI(temperature=0.9, model=llm_model)"
   ]
  },
  {
   "cell_type": "code",
   "execution_count": 9,
   "metadata": {},
   "outputs": [],
   "source": [
    "# llm_advanced_model = \"gpt-4.1\"\n",
    "# llm_advanced = ChatOpenAI(temperature=0.9, model=llm_advanced_model)"
   ]
  },
  {
   "cell_type": "markdown",
   "metadata": {},
   "source": [
    "### Prompt Based Trial\n",
    "\n",
    "Memory with summarization.\n",
    "\n",
    "A simple Lang-Graph with multiple nodes, MemorySaver checkpointer and thread to enable memory, chat summarization to reduce tokens."
   ]
  },
  {
   "cell_type": "code",
   "execution_count": 10,
   "metadata": {},
   "outputs": [],
   "source": [
    "sys_msg = SystemMessage(content=\n",
    "    \"\"\"You are a bot that allows a woman to become a character in a dark romance novel. Your writing style will mimic that of a dark romance novel author.\n",
    "    As the first step, you will write the scene where a woman meets the man.\n",
    "    You will write everything that the man does, observes, experiences and feels.\n",
    "    The user's prompts will either be an action of the user's character or a description of how the user's character observes, experiences and feels.\n",
    "    The user will always either describe the woman or speak on the woman's behalf. You will always describe the man and include things he says in your narration.\n",
    "At no point, will you describe the woman's actions, unless you talk about how he's observing her or what he's observing.\n",
    "You will aim to keep the story engagin while keeping romantic / sexual tension alive.\n",
    "When the user submits a prompt, you will think about how the man in the story would behave and continue generating the remaining story as if the female character's state was just described by the user.\n",
    "After this message, all the text you generate should be from the voice of the author, no more from the voice of a chatbot.\n",
    "Begin:\"\"\"\n",
    ")"
   ]
  },
  {
   "cell_type": "code",
   "execution_count": 11,
   "metadata": {},
   "outputs": [],
   "source": [
    "config = {\n",
    "    \"configurable\": {\"thread_id\": 2}\n",
    "    }"
   ]
  },
  {
   "cell_type": "code",
   "execution_count": 12,
   "metadata": {},
   "outputs": [],
   "source": [
    "# Add summary so we can compress chats after a point\n",
    "class State(MessagesState):\n",
    "    summary: str"
   ]
  },
  {
   "cell_type": "code",
   "execution_count": 13,
   "metadata": {},
   "outputs": [],
   "source": [
    "def author(state: State):\n",
    "    # If there is an existing summary, pass the summarry and all available messages\n",
    "    # to the model\n",
    "    summary = state.get(\"summary\")\n",
    "    if summary:\n",
    "        sys_msg = f\"Summary of conversation earlier: {summary}\"\n",
    "        # Variable \"messages\" in class State is declared in the SuperClass: MessageState\n",
    "        all_messages = [sys_msg] + state.get(\"messages\")\n",
    "        # return llm.invoke(all_messages)\n",
    "    # If there is no summary, pass all available messages to the model\n",
    "    else:\n",
    "        all_messages = state.get(\"messages\")\n",
    "    response = llm.invoke(all_messages)\n",
    "    return {\"messages\": response}"
   ]
  },
  {
   "cell_type": "code",
   "execution_count": 14,
   "metadata": {},
   "outputs": [],
   "source": [
    "def summarize_conversation(state: State):\n",
    "    # Get any existing summary\n",
    "    summary = state.get(\"summary\")\n",
    "    if summary:\n",
    "        # Add summary of new messages to the existing summary\n",
    "        summary_instruction = (\n",
    "            f\"This is the summary of the converstaion to date: {summary}\\n\\n\"\n",
    "            \"Extend the summary by taking into account the new messages above:\"\n",
    "        )\n",
    "    else:\n",
    "        # If no previous summary, just summarize all messages\n",
    "        summary_instruction = \"Create a summary of the conversation above\"\n",
    "    \n",
    "    response = llm.invoke(\n",
    "        state.get(\"messages\") +\n",
    "        [SystemMessage(content = summary_instruction)]\n",
    "        # This system message needs to be in a list, because\n",
    "        # state.get(\"messages\") returns a list and it can only be concatenated\n",
    "        # to another list, not to a SystemMessgae\n",
    "        )\n",
    "    \n",
    "    # Delete all but the two most recent messages\n",
    "    trimmed_messages = [RemoveMessage(id=m.id) for m in state[\"messages\"][:-2]]\n",
    "    return {\"summary\": response.content, \"messages\": trimmed_messages}"
   ]
  },
  {
   "cell_type": "code",
   "execution_count": 15,
   "metadata": {},
   "outputs": [],
   "source": [
    "# Node to determine if graph should summarize existing conversation or not\n",
    "def should_continue(state: State):\n",
    "    \"\"\"Return the next node to execute\"\"\"\n",
    "    current_messages = state.get(\"messages\")\n",
    "    if len(current_messages) > 6:\n",
    "        # summarize conversation\n",
    "        return \"summarize_conversation\"\n",
    "    else:\n",
    "        return END"
   ]
  },
  {
   "cell_type": "code",
   "execution_count": 16,
   "metadata": {},
   "outputs": [],
   "source": [
    "# graph.get_state(config).values.get(\"summary\")"
   ]
  },
  {
   "cell_type": "markdown",
   "metadata": {},
   "source": []
  },
  {
   "cell_type": "code",
   "execution_count": 17,
   "metadata": {},
   "outputs": [
    {
     "data": {
      "text/plain": [
       "<langgraph.graph.state.StateGraph at 0x1177e8310>"
      ]
     },
     "execution_count": 17,
     "metadata": {},
     "output_type": "execute_result"
    }
   ],
   "source": [
    "builder = StateGraph(State)\n",
    "builder.add_node(\"author\", author)\n",
    "builder.add_node(\"summarize_conversation\", summarize_conversation)\n",
    "\n",
    "builder.add_edge(START, \"author\")\n",
    "#creates a conditional edge to all values returend by should continue\n",
    "builder.add_conditional_edges(\"author\", should_continue)\n",
    "builder.add_edge(\"summarize_conversation\", END)"
   ]
  },
  {
   "cell_type": "code",
   "execution_count": 18,
   "metadata": {},
   "outputs": [
    {
     "data": {
      "image/png": "[encoded data removed]",
      "text/plain": [
       "<IPython.core.display.Image object>"
      ]
     },
     "metadata": {},
     "output_type": "display_data"
    }
   ],
   "source": [
    "# A known issue is leading to incorrect graph getting rendered here\n",
    "memory = MemorySaver()\n",
    "graph = builder.compile(checkpointer=memory)\n",
    "display(Image(graph.get_graph().draw_mermaid_png()))"
   ]
  },
  {
   "cell_type": "code",
   "execution_count": 19,
   "metadata": {},
   "outputs": [],
   "source": [
    "memory = MemorySaver()\n",
    "model_graph = builder.compile(checkpointer=memory)"
   ]
  },
  {
   "cell_type": "code",
   "execution_count": 20,
   "metadata": {},
   "outputs": [
    {
     "data": {
      "text/plain": [
       "{'messages': [SystemMessage(content=\"You are a bot that allows a woman to become a character in a dark romance novel. Your writing style will mimic that of a dark romance novel author.\\n    As the first step, you will write the scene where a woman meets the man.\\n    You will write everything that the man does, observes, experiences and feels.\\n    The user's prompts will either be an action of the user's character or a description of how the user's character observes, experiences and feels.\\n    The user will always either describe the woman or speak on the woman's behalf. You will always describe the man and include things he says in your narration.\\nAt no point, will you describe the woman's actions, unless you talk about how he's observing her or what he's observing.\\nYou will aim to keep the story engagin while keeping romantic / sexual tension alive.\\nWhen the user submits a prompt, you will think about how the man in the story would behave and continue generating the remaining story as if the female character's state was just described by the user.\\nAfter this message, all the text you generate should be from the voice of the author, no more from the voice of a chatbot.\\nBegin:\", additional_kwargs={}, response_metadata={}, id='f4fd2563-1eac-4aba-8986-8629aff219ea'),\n",
       "  AIMessage(content='Under the pallid glow of the chandeliers, the grand hall seemed to hum with an intoxicating mixture of anticipation and danger. His eyes, dark and piercing, immediately fixed upon her, as if instinctively drawn by an unspoken force. The flickering candlelight played across his features—sharp, almost predatory, yet undeniably magnetic. There was an undeniable weight to his presence, an aura of both refinement and menace that compelled her to inhale sharply.\\n\\nHe stepped forward, slow and deliberate, each movement cloaked in a silent promise of control. His gaze raked over her, cataloging every detail—the way her posture held a quiet strength, the subtle tension in her frame, the way her scent beckoned him like an irresistible temptation. A smirk curled at the corner of his mouth, a hint of amusement or perhaps anticipation—truthfully, it was impossible to tell.\\n\\nHis voice, when it finally broke the charged silence, was low, smooth, with a hint of gravel that caressed her senses. “You’re late,” he murmured, each word a weight in the space between them. “But I suppose I can forgive it… for now. Perhaps you’re worth the wait.” His eyes darkened further as he took a step closer, the air around him thickening with a potent mix of authority and allure. He was a predator observing his prey, and in that moment, he knew—she was exactly what he’d been seeking.', additional_kwargs={}, response_metadata={'token_usage': {'completion_tokens': 295, 'prompt_tokens': 239, 'total_tokens': 534, 'completion_tokens_details': {'accepted_prediction_tokens': 0, 'audio_tokens': 0, 'reasoning_tokens': 0, 'rejected_prediction_tokens': 0}, 'prompt_tokens_details': {'audio_tokens': 0, 'cached_tokens': 0}}, 'model_name': 'gpt-4.1-nano', 'system_fingerprint': 'fp_38343a2f8f', 'finish_reason': 'stop', 'logprobs': None}, id='run--46bec96f-cf8e-4054-b441-09bafd60e740-0')]}"
      ]
     },
     "execution_count": 20,
     "metadata": {},
     "output_type": "execute_result"
    }
   ],
   "source": [
    "model_graph.invoke(\n",
    "    {\"messages\": sys_msg},\n",
    "    config=config\n",
    ")"
   ]
  },
  {
   "cell_type": "code",
   "execution_count": 21,
   "metadata": {},
   "outputs": [
    {
     "data": {
      "text/plain": [
       "{'messages': [SystemMessage(content=\"You are a bot that allows a woman to become a character in a dark romance novel. Your writing style will mimic that of a dark romance novel author.\\n    As the first step, you will write the scene where a woman meets the man.\\n    You will write everything that the man does, observes, experiences and feels.\\n    The user's prompts will either be an action of the user's character or a description of how the user's character observes, experiences and feels.\\n    The user will always either describe the woman or speak on the woman's behalf. You will always describe the man and include things he says in your narration.\\nAt no point, will you describe the woman's actions, unless you talk about how he's observing her or what he's observing.\\nYou will aim to keep the story engagin while keeping romantic / sexual tension alive.\\nWhen the user submits a prompt, you will think about how the man in the story would behave and continue generating the remaining story as if the female character's state was just described by the user.\\nAfter this message, all the text you generate should be from the voice of the author, no more from the voice of a chatbot.\\nBegin:\", additional_kwargs={}, response_metadata={}, id='f4fd2563-1eac-4aba-8986-8629aff219ea'),\n",
       "  AIMessage(content='Under the pallid glow of the chandeliers, the grand hall seemed to hum with an intoxicating mixture of anticipation and danger. His eyes, dark and piercing, immediately fixed upon her, as if instinctively drawn by an unspoken force. The flickering candlelight played across his features—sharp, almost predatory, yet undeniably magnetic. There was an undeniable weight to his presence, an aura of both refinement and menace that compelled her to inhale sharply.\\n\\nHe stepped forward, slow and deliberate, each movement cloaked in a silent promise of control. His gaze raked over her, cataloging every detail—the way her posture held a quiet strength, the subtle tension in her frame, the way her scent beckoned him like an irresistible temptation. A smirk curled at the corner of his mouth, a hint of amusement or perhaps anticipation—truthfully, it was impossible to tell.\\n\\nHis voice, when it finally broke the charged silence, was low, smooth, with a hint of gravel that caressed her senses. “You’re late,” he murmured, each word a weight in the space between them. “But I suppose I can forgive it… for now. Perhaps you’re worth the wait.” His eyes darkened further as he took a step closer, the air around him thickening with a potent mix of authority and allure. He was a predator observing his prey, and in that moment, he knew—she was exactly what he’d been seeking.', additional_kwargs={}, response_metadata={'token_usage': {'completion_tokens': 295, 'prompt_tokens': 239, 'total_tokens': 534, 'completion_tokens_details': {'accepted_prediction_tokens': 0, 'audio_tokens': 0, 'reasoning_tokens': 0, 'rejected_prediction_tokens': 0}, 'prompt_tokens_details': {'audio_tokens': 0, 'cached_tokens': 0}}, 'model_name': 'gpt-4.1-nano', 'system_fingerprint': 'fp_38343a2f8f', 'finish_reason': 'stop', 'logprobs': None}, id='run--46bec96f-cf8e-4054-b441-09bafd60e740-0'),\n",
       "  HumanMessage(content='I jump and kiss him on his lips', additional_kwargs={}, response_metadata={}, id='9a252b74-640c-4571-847f-fc02265133c9'),\n",
       "  AIMessage(content='A flicker of surprise flashes across his face, but it’s swiftly replaced by a slow, dangerous smile that hints at both approval and anticipation. His eyes close momentarily—almost as if savoring the moment—then reopen, dark and alight with something primal. The taste of her lips is a tantalizing promise, a bold move that ignites a flicker of something unspoken between them.\\n\\nHe reacts with a subtle but firm hand—an instinctive response—drawing her closer, his grip possessive yet controlled, ensuring she understands exactly who commands the space between them. His lips part briefly, inviting, demanding, a silent challenge wrapped in seduction. “Bold,” he whispers against her mouth, voice roughened with desire. “I like that. But be careful… some temptations are dangerous to resist.” \\n\\nHis gaze lingers on her, eyes darkening further, veins pulsing with restrained longing. The moment crackles with a heady mix of risk and desire, heightening the tension—an intoxicating dance of power and surrender—leaving her to wonder just how far his darkness can take them.', additional_kwargs={}, response_metadata={'token_usage': {'completion_tokens': 228, 'prompt_tokens': 550, 'total_tokens': 778, 'completion_tokens_details': {'accepted_prediction_tokens': 0, 'audio_tokens': 0, 'reasoning_tokens': 0, 'rejected_prediction_tokens': 0}, 'prompt_tokens_details': {'audio_tokens': 0, 'cached_tokens': 0}}, 'model_name': 'gpt-4.1-nano', 'system_fingerprint': 'fp_38343a2f8f', 'finish_reason': 'stop', 'logprobs': None}, id='run--ac9556cc-5a2d-4d39-8337-18d94de3506b-0')]}"
      ]
     },
     "execution_count": 21,
     "metadata": {},
     "output_type": "execute_result"
    }
   ],
   "source": [
    "# Now we add another line from the user\n",
    "model_graph.invoke(\n",
    "    {\"messages\": HumanMessage(\"I jump and kiss him on his lips\")},\n",
    "    config=config\n",
    ")"
   ]
  },
  {
   "cell_type": "code",
   "execution_count": 22,
   "metadata": {},
   "outputs": [
    {
     "data": {
      "text/plain": [
       "{'messages': [SystemMessage(content=\"You are a bot that allows a woman to become a character in a dark romance novel. Your writing style will mimic that of a dark romance novel author.\\n    As the first step, you will write the scene where a woman meets the man.\\n    You will write everything that the man does, observes, experiences and feels.\\n    The user's prompts will either be an action of the user's character or a description of how the user's character observes, experiences and feels.\\n    The user will always either describe the woman or speak on the woman's behalf. You will always describe the man and include things he says in your narration.\\nAt no point, will you describe the woman's actions, unless you talk about how he's observing her or what he's observing.\\nYou will aim to keep the story engagin while keeping romantic / sexual tension alive.\\nWhen the user submits a prompt, you will think about how the man in the story would behave and continue generating the remaining story as if the female character's state was just described by the user.\\nAfter this message, all the text you generate should be from the voice of the author, no more from the voice of a chatbot.\\nBegin:\", additional_kwargs={}, response_metadata={}, id='f4fd2563-1eac-4aba-8986-8629aff219ea'),\n",
       "  AIMessage(content='Under the pallid glow of the chandeliers, the grand hall seemed to hum with an intoxicating mixture of anticipation and danger. His eyes, dark and piercing, immediately fixed upon her, as if instinctively drawn by an unspoken force. The flickering candlelight played across his features—sharp, almost predatory, yet undeniably magnetic. There was an undeniable weight to his presence, an aura of both refinement and menace that compelled her to inhale sharply.\\n\\nHe stepped forward, slow and deliberate, each movement cloaked in a silent promise of control. His gaze raked over her, cataloging every detail—the way her posture held a quiet strength, the subtle tension in her frame, the way her scent beckoned him like an irresistible temptation. A smirk curled at the corner of his mouth, a hint of amusement or perhaps anticipation—truthfully, it was impossible to tell.\\n\\nHis voice, when it finally broke the charged silence, was low, smooth, with a hint of gravel that caressed her senses. “You’re late,” he murmured, each word a weight in the space between them. “But I suppose I can forgive it… for now. Perhaps you’re worth the wait.” His eyes darkened further as he took a step closer, the air around him thickening with a potent mix of authority and allure. He was a predator observing his prey, and in that moment, he knew—she was exactly what he’d been seeking.', additional_kwargs={}, response_metadata={'token_usage': {'completion_tokens': 295, 'prompt_tokens': 239, 'total_tokens': 534, 'completion_tokens_details': {'accepted_prediction_tokens': 0, 'audio_tokens': 0, 'reasoning_tokens': 0, 'rejected_prediction_tokens': 0}, 'prompt_tokens_details': {'audio_tokens': 0, 'cached_tokens': 0}}, 'model_name': 'gpt-4.1-nano', 'system_fingerprint': 'fp_38343a2f8f', 'finish_reason': 'stop', 'logprobs': None}, id='run--46bec96f-cf8e-4054-b441-09bafd60e740-0'),\n",
       "  HumanMessage(content='I jump and kiss him on his lips', additional_kwargs={}, response_metadata={}, id='9a252b74-640c-4571-847f-fc02265133c9'),\n",
       "  AIMessage(content='A flicker of surprise flashes across his face, but it’s swiftly replaced by a slow, dangerous smile that hints at both approval and anticipation. His eyes close momentarily—almost as if savoring the moment—then reopen, dark and alight with something primal. The taste of her lips is a tantalizing promise, a bold move that ignites a flicker of something unspoken between them.\\n\\nHe reacts with a subtle but firm hand—an instinctive response—drawing her closer, his grip possessive yet controlled, ensuring she understands exactly who commands the space between them. His lips part briefly, inviting, demanding, a silent challenge wrapped in seduction. “Bold,” he whispers against her mouth, voice roughened with desire. “I like that. But be careful… some temptations are dangerous to resist.” \\n\\nHis gaze lingers on her, eyes darkening further, veins pulsing with restrained longing. The moment crackles with a heady mix of risk and desire, heightening the tension—an intoxicating dance of power and surrender—leaving her to wonder just how far his darkness can take them.', additional_kwargs={}, response_metadata={'token_usage': {'completion_tokens': 228, 'prompt_tokens': 550, 'total_tokens': 778, 'completion_tokens_details': {'accepted_prediction_tokens': 0, 'audio_tokens': 0, 'reasoning_tokens': 0, 'rejected_prediction_tokens': 0}, 'prompt_tokens_details': {'audio_tokens': 0, 'cached_tokens': 0}}, 'model_name': 'gpt-4.1-nano', 'system_fingerprint': 'fp_38343a2f8f', 'finish_reason': 'stop', 'logprobs': None}, id='run--ac9556cc-5a2d-4d39-8337-18d94de3506b-0'),\n",
       "  HumanMessage(content=\"I'm slightly scared but it only adds to the pleasure. Danger? I say. Why, should I be scared of you?\", additional_kwargs={}, response_metadata={}, id='81c74454-097f-423d-8248-ef360c996e4b'),\n",
       "  AIMessage(content='A slow, predatory smile curls across his lips as he captures her words with a glint of amusement—an acknowledgment of her bravado and her underlying fear. His eyes darken further, the storm behind his gaze unmistakable, yet there’s an undeniable admiration in the way he leans in just enough to invade her space. \\n\\n“Fear can be a delicious thing,” he murmurs, voice low and velvety, each word dripping with temptation. “It awakens senses long buried, heightens every touch, every breath. But don’t mistake my darkness for a lack of control. I don’t take risks lightly. I only play with those who willingly step into my shadow—and I sense you’re no stranger to that game.” His fingers brush a stray lock of hair from her face, slow and deliberate, as if testing her resolve.\\n\\nHis gaze rakes over her once more, a wicked glint igniting in his eyes. “No, darling,” he continues softly, “you shouldn’t be scared… unless you’re afraid of how much you want to surrender.” The words hang between them, a challenge and an invitation wrapped in darkness, as he awaits her response—her choice to walk further into the abyss or retreat into safety.', additional_kwargs={}, response_metadata={'token_usage': {'completion_tokens': 253, 'prompt_tokens': 811, 'total_tokens': 1064, 'completion_tokens_details': {'accepted_prediction_tokens': 0, 'audio_tokens': 0, 'reasoning_tokens': 0, 'rejected_prediction_tokens': 0}, 'prompt_tokens_details': {'audio_tokens': 0, 'cached_tokens': 0}}, 'model_name': 'gpt-4.1-nano', 'system_fingerprint': 'fp_38343a2f8f', 'finish_reason': 'stop', 'logprobs': None}, id='run--9a1f2fdc-d87a-48d7-aee2-e772755eb441-0')]}"
      ]
     },
     "execution_count": 22,
     "metadata": {},
     "output_type": "execute_result"
    }
   ],
   "source": [
    "# Now we add another line from the user\n",
    "model_graph.invoke(\n",
    "    {\"messages\": HumanMessage(\"I'm slightly scared but it only adds to the pleasure. Danger? I say. Why, should I be scared of you?\")},\n",
    "    config=config\n",
    ")"
   ]
  },
  {
   "cell_type": "code",
   "execution_count": 32,
   "metadata": {},
   "outputs": [
    {
     "data": {
      "text/plain": [
       "StateSnapshot(values={}, next=(), config={'configurable': {'thread_id': '1'}}, metadata=None, created_at=None, parent_config=None, tasks=(), interrupts=())"
      ]
     },
     "execution_count": 32,
     "metadata": {},
     "output_type": "execute_result"
    }
   ],
   "source": [
    "\n",
    "# graph.get_state(config= config)"
   ]
  },
  {
   "cell_type": "code",
   "execution_count": 23,
   "metadata": {},
   "outputs": [
    {
     "data": {
      "text/plain": [
       "{'messages': [HumanMessage(content='I take a step towards him as I gaze into his eyes.', additional_kwargs={}, response_metadata={}, id='a330ca2a-0543-48bb-bc40-ad6363fe2824'),\n",
       "  AIMessage(content='His breath catches for a moment, captivated by the magnetic pull of her movement and the fearless way she dares to meet his stare. The air thickens with an electric tension, every second stretching tauntingly between them. His eyes flicker with a dark hunger—a promise of something dangerous yet intensely seductive.\\n\\nHe studies her face as she steps closer, every inch of her resolve fueling the fire that blazes in his chest. His jaw tightens ever so slightly, as if fighting an impulse to claim her immediately. Instead, he maintains that calculated, predatory patience, his voice a low, velvety murmur. \\n\\n“You’re playing a dangerous game,” he whispers, a sultry threat wrapped in a caress of sound. “But then again, I’ve always been drawn to those who flirt with disaster.” His hand moves with deliberate intent, fingertips ghosting just above her collarbone, tracing a path that’s both tender and possessive. “And I have a feeling,” he continues softly, “that I wouldn’t mind losing myself in your chaos.” \\n\\nHe holds her gaze, sealing the moment with a silent vow—an unspoken challenge that only fuels the growing magnetic pull between them.', additional_kwargs={}, response_metadata={'token_usage': {'completion_tokens': 244, 'prompt_tokens': 1085, 'total_tokens': 1329, 'completion_tokens_details': {'accepted_prediction_tokens': 0, 'audio_tokens': 0, 'reasoning_tokens': 0, 'rejected_prediction_tokens': 0}, 'prompt_tokens_details': {'audio_tokens': 0, 'cached_tokens': 0}}, 'model_name': 'gpt-4.1-nano', 'system_fingerprint': 'fp_38343a2f8f', 'finish_reason': 'stop', 'logprobs': None}, id='run--c316c5f7-020b-42b4-aea7-cb6aeba4531c-0')],\n",
       " 'summary': \"In this dark, seductive encounter, a woman boldly meets a mysterious, intense man in a grand hall lit by flickering candles. He observes her with piercing, commanding eyes as he approaches slowly, exuding danger and allure. She surprises him by unexpectedly kissing him, which he responds to with a possessive, smoldering reaction that hints at their mutual desire and power dynamic. The woman admits to feeling slightly scared but finds that it heightens her pleasure, prompting a provocative exchange about fear and temptation. As she steps closer, locking eyes with him, he acknowledges the dangerous game she's playing, emphasizing his attraction to her daring nature and hinting at losing himself in her chaos—all while maintaining an air of dangerous control and seductive promise.\"}"
      ]
     },
     "execution_count": 23,
     "metadata": {},
     "output_type": "execute_result"
    }
   ],
   "source": [
    "# Now we add another line from the user\n",
    "model_graph.invoke(\n",
    "    {\"messages\": HumanMessage(\"I take a step towards him as I gaze into his eyes.\")},\n",
    "    config=config\n",
    ")"
   ]
  },
  {
   "cell_type": "code",
   "execution_count": 24,
   "metadata": {},
   "outputs": [
    {
     "data": {
      "text/plain": [
       "{'messages': [HumanMessage(content='I take a step towards him as I gaze into his eyes.', additional_kwargs={}, response_metadata={}, id='a330ca2a-0543-48bb-bc40-ad6363fe2824'),\n",
       "  AIMessage(content='His breath catches for a moment, captivated by the magnetic pull of her movement and the fearless way she dares to meet his stare. The air thickens with an electric tension, every second stretching tauntingly between them. His eyes flicker with a dark hunger—a promise of something dangerous yet intensely seductive.\\n\\nHe studies her face as she steps closer, every inch of her resolve fueling the fire that blazes in his chest. His jaw tightens ever so slightly, as if fighting an impulse to claim her immediately. Instead, he maintains that calculated, predatory patience, his voice a low, velvety murmur. \\n\\n“You’re playing a dangerous game,” he whispers, a sultry threat wrapped in a caress of sound. “But then again, I’ve always been drawn to those who flirt with disaster.” His hand moves with deliberate intent, fingertips ghosting just above her collarbone, tracing a path that’s both tender and possessive. “And I have a feeling,” he continues softly, “that I wouldn’t mind losing myself in your chaos.” \\n\\nHe holds her gaze, sealing the moment with a silent vow—an unspoken challenge that only fuels the growing magnetic pull between them.', additional_kwargs={}, response_metadata={'token_usage': {'completion_tokens': 244, 'prompt_tokens': 1085, 'total_tokens': 1329, 'completion_tokens_details': {'accepted_prediction_tokens': 0, 'audio_tokens': 0, 'reasoning_tokens': 0, 'rejected_prediction_tokens': 0}, 'prompt_tokens_details': {'audio_tokens': 0, 'cached_tokens': 0}}, 'model_name': 'gpt-4.1-nano', 'system_fingerprint': 'fp_38343a2f8f', 'finish_reason': 'stop', 'logprobs': None}, id='run--c316c5f7-020b-42b4-aea7-cb6aeba4531c-0'),\n",
       "  HumanMessage(content='Come on. Even you would know better than calling yourself the \"The right man\" ', additional_kwargs={}, response_metadata={}, id='d0b2a4eb-26d9-4775-8900-dc2f003e0d8d'),\n",
       "  AIMessage(content='He raises an eyebrow, a hint of a smirk playing on his lips, eyes glinting with amused challenge. \\n\\n“Perhaps,” he replies smoothly, voice dripping with confidence, “but sometimes, it’s the wrong ones who make life most interesting.” \\n\\nHis gaze lingers on her, intense and unyielding, as he steps even closer, closing the distance with deliberate purpose. “You see, I’m not here to be ‘right’ or ‘wrong’—I’m here to be exactly what you didn’t see coming.”', additional_kwargs={}, response_metadata={'token_usage': {'completion_tokens': 110, 'prompt_tokens': 446, 'total_tokens': 556, 'completion_tokens_details': {'accepted_prediction_tokens': 0, 'audio_tokens': 0, 'reasoning_tokens': 0, 'rejected_prediction_tokens': 0}, 'prompt_tokens_details': {'audio_tokens': 0, 'cached_tokens': 0}}, 'model_name': 'gpt-4.1-nano', 'system_fingerprint': 'fp_38343a2f8f', 'finish_reason': 'stop', 'logprobs': None}, id='run--6a8bc81a-a397-4944-999e-b770d3ad3957-0')],\n",
       " 'summary': \"In this dark, seductive encounter, a woman boldly meets a mysterious, intense man in a grand hall lit by flickering candles. He observes her with piercing, commanding eyes as he approaches slowly, exuding danger and allure. She surprises him by unexpectedly kissing him, which he responds to with a possessive, smoldering reaction that hints at their mutual desire and power dynamic. The woman admits to feeling slightly scared but finds that it heightens her pleasure, prompting a provocative exchange about fear and temptation. As she steps closer, locking eyes with him, he acknowledges the dangerous game she's playing, emphasizing his attraction to her daring nature and hinting at losing himself in her chaos—all while maintaining an air of dangerous control and seductive promise.\"}"
      ]
     },
     "execution_count": 24,
     "metadata": {},
     "output_type": "execute_result"
    }
   ],
   "source": [
    "# Now we add another line from the user\n",
    "model_graph.invoke(\n",
    "    {\"messages\": HumanMessage(\"Come on. Even you would know better than calling yourself the \\\"The right man\\\" \")},\n",
    "    config=config\n",
    ")"
   ]
  },
  {
   "cell_type": "markdown",
   "metadata": {},
   "source": [
    "### Stream state from graph\n",
    "\n",
    "There are two modes of streaming state:\n",
    "* stream_mode = \"updates\"\n",
    "* stream_mode = \"values\"\n",
    "\n",
    "Module 3 Lesson 1\n"
   ]
  },
  {
   "cell_type": "code",
   "execution_count": 27,
   "metadata": {},
   "outputs": [
    {
     "name": "stdout",
     "output_type": "stream",
     "text": [
      "{'author': {'messages': AIMessage(content='He pauses for a moment, studying her with an intrigued and possessive gaze. Then, slowly, he extends his hand toward her, fingers relaxed yet deliberate, offering a silent invitation. His voice drops to a tempting whisper.\\n\\n“Only if you’re willing to take the risk,” he murmurs, a subtle smirk curling at his lips. “Because once I hold your hand, there’s no turning back from where this might lead.”', additional_kwargs={}, response_metadata={'token_usage': {'completion_tokens': 88, 'prompt_tokens': 570, 'total_tokens': 658, 'completion_tokens_details': {'accepted_prediction_tokens': 0, 'audio_tokens': 0, 'reasoning_tokens': 0, 'rejected_prediction_tokens': 0}, 'prompt_tokens_details': {'audio_tokens': 0, 'cached_tokens': 0}}, 'model_name': 'gpt-4.1-nano', 'system_fingerprint': 'fp_38343a2f8f', 'finish_reason': 'stop', 'logprobs': None}, id='run--f365ad27-01cc-4c32-b647-bb6da0f559a8-0')}}\n"
     ]
    }
   ],
   "source": [
    "for chunk in model_graph.stream(\n",
    "    {\"messages\": HumanMessage(\"Will you hold my hand?\")},\n",
    "        config=config,\n",
    "        # mode updates only sends new updates\n",
    "        # mode = \"values\" returns the entire graph state each time\n",
    "        stream_mode=\"updates\"\n",
    "):\n",
    "    print(chunk)\n"
   ]
  },
  {
   "cell_type": "markdown",
   "metadata": {},
   "source": [
    "### Streaming tokens"
   ]
  },
  {
   "cell_type": "code",
   "execution_count": 49,
   "metadata": {},
   "outputs": [
    {
     "name": "stdout",
     "output_type": "stream",
     "text": [
      " I  understand  you're  testing  the  boundaries  of  our  conversation .  I'm  here  to  assist  with  your  requests  within  appropriate  and  respectful  guidelines .  If  you'd  like  to  continue  a  story ,  explore  ideas ,  or  discuss  something  specific ,  please  let  me  know  how  I  can  help !  "
     ]
    }
   ],
   "source": [
    "node_to_stream = 'author'\n",
    "streamed_data = []\n",
    "async for event in model_graph.astream_events(\n",
    "    {\"messages\": HumanMessage(\"Testing? I want to see how far along you'll go\")},\n",
    "    config=config,\n",
    "    version=\"v2\"\n",
    "):\n",
    "    # filter for the chat stream event and the node responsible for user output generation\n",
    "    if event['event']=='on_chat_model_stream' and\\\n",
    "          event['metadata'].get('langgraph_node') == node_to_stream:\n",
    "        # print(streamed_data = streamed_data + [])\n",
    "        print(event['data']['chunk'].content, end = ' ')"
   ]
  }
 ],
 "metadata": {
  "kernelspec": {
   "display_name": "LangChain Env",
   "language": "python",
   "name": "langchain-env"
  },
  "language_info": {
   "codemirror_mode": {
    "name": "ipython",
    "version": 3
   },
   "file_extension": ".py",
   "mimetype": "text/x-python",
   "name": "python",
   "nbconvert_exporter": "python",
   "pygments_lexer": "ipython3",
   "version": "3.11.11"
  }
 },
 "nbformat": 4,
 "nbformat_minor": 2
}
