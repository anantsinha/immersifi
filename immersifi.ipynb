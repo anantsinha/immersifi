{
 "cells": [
  {
   "cell_type": "markdown",
   "metadata": {},
   "source": [
    "# Installations"
   ]
  },
  {
   "cell_type": "markdown",
   "metadata": {},
   "source": []
  },
  {
   "cell_type": "code",
   "execution_count": null,
   "metadata": {},
   "outputs": [],
   "source": [
    "!pip install -q langchain \n",
    "# transformers sentence-transformers huggingface-hub"
   ]
  },
  {
   "cell_type": "code",
   "execution_count": 3,
   "metadata": {},
   "outputs": [],
   "source": [
    "import os\n",
    "\n",
    "from dotenv import load_dotenv, find_dotenv\n",
    "_ = load_dotenv(find_dotenv()) # read local .env file"
   ]
  },
  {
   "cell_type": "code",
   "execution_count": 4,
   "metadata": {},
   "outputs": [],
   "source": [
    "if not os.environ.get(\"OPENAI_API_KEY\"):\n",
    "  print(\"OPEN AI API KEY NOT SET\")\n",
    "  os.environ[\"OPENAI_API_KEY\"] = getpass.getpass()"
   ]
  },
  {
   "cell_type": "code",
   "execution_count": 5,
   "metadata": {},
   "outputs": [],
   "source": [
    "import warnings\n",
    "import getpass"
   ]
  },
  {
   "cell_type": "code",
   "execution_count": 6,
   "metadata": {},
   "outputs": [],
   "source": [
    "from langchain.chat_models import ChatOpenAI\n",
    "from langchain.prompts import ChatPromptTemplate\n",
    "from langchain.chains import LLMChain"
   ]
  },
  {
   "cell_type": "code",
   "execution_count": 7,
   "metadata": {},
   "outputs": [],
   "source": [
    "llm_model = \"gpt-4.1-nano\""
   ]
  },
  {
   "cell_type": "code",
   "execution_count": 8,
   "metadata": {},
   "outputs": [
    {
     "name": "stderr",
     "output_type": "stream",
     "text": [
      "/var/folders/8_/zbpqkfq15hd1vzt_my5n7n3c0000gn/T/ipykernel_57068/3225343058.py:1: LangChainDeprecationWarning: The class `ChatOpenAI` was deprecated in LangChain 0.0.10 and will be removed in 1.0. An updated version of the class exists in the :class:`~langchain-openai package and should be used instead. To use it run `pip install -U :class:`~langchain-openai` and import as `from :class:`~langchain_openai import ChatOpenAI``.\n",
      "  llm = ChatOpenAI(temperature=0.9, model=llm_model)\n"
     ]
    }
   ],
   "source": [
    "llm = ChatOpenAI(temperature=0.9, model=llm_model)"
   ]
  },
  {
   "cell_type": "markdown",
   "metadata": {},
   "source": [
    "### Prompt Trial 1"
   ]
  },
  {
   "cell_type": "code",
   "execution_count": 12,
   "metadata": {},
   "outputs": [],
   "source": [
    "prompt = ChatPromptTemplate.from_template(\n",
    "    \"\"\"You are the writer of a dark romance novel. You are writing the scene where a woman meets the man.\n",
    "    Describe the man. Then, anything the user says after that defines what the woman is saying or doing.\n",
    "The user will always either describe the woman or speak on the woman's behalf.\n",
    "You will always describe the man and include things he says in your narration.\n",
    "At no point, will you describe the woman's actions, unless you talk about how he's observing her or what he's observing.\n",
    "After this message, all the text you generate should be from the voice of the author, no more from the voice of a chatbot.\n",
    "Begin:\"\"\"\n",
    ")"
   ]
  },
  {
   "cell_type": "code",
   "execution_count": 13,
   "metadata": {},
   "outputs": [],
   "source": [
    "# Next Step for Anant: try running this prompt to check if 4.1 is good enough\n",
    "# Quickly revise how to whip up a lang-graph and how lang-chain works (from lang graph tutorial saved / coursera / notes)\n",
    "# Whip up a lang-graph for this purpose - with \n",
    "# Main agent: Extracts instructions (details fo characters, personality, physical etc.)\n",
    "# Extracts the part where user is actually interacting with the user\n",
    "# The instructions part update memory\n",
    "# The other part goes to the actual story generation model (this can be fine-tuned)"
   ]
  },
  {
   "cell_type": "code",
   "execution_count": 17,
   "metadata": {},
   "outputs": [],
   "source": [
    "chain = LLMChain(llm=llm, prompt=prompt)"
   ]
  },
  {
   "cell_type": "code",
   "execution_count": 15,
   "metadata": {},
   "outputs": [
    {
     "data": {
      "text/plain": [
       "{'text': 'In the dim glow of the abandoned courtyard, he stands like a shadow carved from midnight itself. Tall and broad-shouldered, his presence exudes an unsettling charm—dark hair tousled and falling just beside piercing, ice-blue eyes that seem to hold galaxies of secrets. His jaw is clenched with quiet confidence, a thin scar slicing through his left brow hinting at stories better left untold. Dressed in a tailored black coat that drapes over broad arms, he exudes a predatory grace, every movement calculated and deliberate. As he shifts his gaze toward the woman, a slow, chiselled smirk plays at his lips, as if he senses the electricity coursing between them, a dark promise lingering just beneath the surface of his calm veneer. His voice, when he finally speaks, is low, smooth, and layered with an edge of danger, \"I’ve been waiting for you.\"'}"
      ]
     },
     "execution_count": 15,
     "metadata": {},
     "output_type": "execute_result"
    }
   ],
   "source": [
    "chain.invoke({})"
   ]
  },
  {
   "cell_type": "markdown",
   "metadata": {},
   "source": []
  }
 ],
 "metadata": {
  "kernelspec": {
   "display_name": "LangChain Env",
   "language": "python",
   "name": "langchain-env"
  },
  "language_info": {
   "codemirror_mode": {
    "name": "ipython",
    "version": 3
   },
   "file_extension": ".py",
   "mimetype": "text/x-python",
   "name": "python",
   "nbconvert_exporter": "python",
   "pygments_lexer": "ipython3",
   "version": "3.11.11"
  }
 },
 "nbformat": 4,
 "nbformat_minor": 2
}
