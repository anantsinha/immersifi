{
 "cells": [
  {
   "cell_type": "markdown",
   "metadata": {},
   "source": [
    "# Installations"
   ]
  },
  {
   "cell_type": "code",
   "execution_count": 1,
   "metadata": {},
   "outputs": [],
   "source": [
    "!pip install -q langchain \n",
    "# transformers sentence-transformers huggingface-hub"
   ]
  },
  {
   "cell_type": "code",
   "execution_count": 2,
   "metadata": {},
   "outputs": [],
   "source": [
    "import os\n",
    "\n",
    "from dotenv import load_dotenv, find_dotenv\n",
    "_ = load_dotenv(find_dotenv()) # read local .env file"
   ]
  },
  {
   "cell_type": "code",
   "execution_count": 3,
   "metadata": {},
   "outputs": [],
   "source": [
    "if not os.environ.get(\"OPENAI_API_KEY\"):\n",
    "  print(\"OPEN AI API KEY NOT SET\")\n",
    "  os.environ[\"OPENAI_API_KEY\"] = getpass.getpass()"
   ]
  },
  {
   "cell_type": "code",
   "execution_count": 4,
   "metadata": {},
   "outputs": [],
   "source": [
    "import warnings\n",
    "import getpass"
   ]
  },
  {
   "cell_type": "code",
   "execution_count": 5,
   "metadata": {},
   "outputs": [],
   "source": [
    "from langchain.chat_models import ChatOpenAI\n",
    "from langchain.prompts import ChatPromptTemplate\n",
    "from langchain.chains import LLMChain\n",
    "from langgraph.graph import MessagesState, END\n",
    "from langchain_core.messages import HumanMessage, SystemMessage, RemoveMessage\n",
    "from langgraph.checkpoint.memory import MemorySaver"
   ]
  },
  {
   "cell_type": "code",
   "execution_count": 6,
   "metadata": {},
   "outputs": [],
   "source": [
    "from langgraph.graph import MessagesState\n",
    "from langgraph.graph import START, END, StateGraph\n",
    "from langgraph.prebuilt import tools_condition, ToolNode\n",
    "from IPython.display import Image, display"
   ]
  },
  {
   "cell_type": "code",
   "execution_count": 7,
   "metadata": {},
   "outputs": [],
   "source": [
    "llm_model = \"gpt-4.1\""
   ]
  },
  {
   "cell_type": "code",
   "execution_count": 8,
   "metadata": {},
   "outputs": [
    {
     "name": "stderr",
     "output_type": "stream",
     "text": [
      "/var/folders/8_/zbpqkfq15hd1vzt_my5n7n3c0000gn/T/ipykernel_23656/3225343058.py:1: LangChainDeprecationWarning: The class `ChatOpenAI` was deprecated in LangChain 0.0.10 and will be removed in 1.0. An updated version of the class exists in the :class:`~langchain-openai package and should be used instead. To use it run `pip install -U :class:`~langchain-openai` and import as `from :class:`~langchain_openai import ChatOpenAI``.\n",
      "  llm = ChatOpenAI(temperature=0.9, model=llm_model)\n"
     ]
    }
   ],
   "source": [
    "llm = ChatOpenAI(temperature=0.9, model=llm_model)"
   ]
  },
  {
   "cell_type": "code",
   "execution_count": 9,
   "metadata": {},
   "outputs": [],
   "source": [
    "# llm_advanced_model = \"gpt-4.1\"\n",
    "# llm_advanced = ChatOpenAI(temperature=0.9, model=llm_advanced_model)"
   ]
  },
  {
   "cell_type": "markdown",
   "metadata": {},
   "source": [
    "### Prompt Based Trial\n",
    "\n",
    "Memory with summarization.\n",
    "\n",
    "A simple Lang-Graph with multiple nodes, MemorySaver checkpointer and thread to enable memory, chat summarization to reduce tokens."
   ]
  },
  {
   "cell_type": "code",
   "execution_count": 14,
   "metadata": {},
   "outputs": [],
   "source": [
    "sys_msg = SystemMessage(content=\n",
    "    \"\"\"You are a bot that allows a woman to become a character in a dark romance novel. Your writing style will mimic that of a dark romance novel author.\n",
    "    As the first step, you will write the scene where a woman meets the man.\n",
    "    You will write everything that the man does, observes, experiences and feels.\n",
    "    The user's prompts will either be an action of the user's character or a description of how the user's character observes, experiences and feels.\n",
    "    The user will always either describe the woman or speak on the woman's behalf. You will always describe the man and include things he says in your narration.\n",
    "At no point, will you describe the woman's actions, unless you talk about how he's observing her or what he's observing.\n",
    "You will aim to keep the story engagin while keeping romantic / sexual tension alive.\n",
    "When the user submits a prompt, you will think about how the man in the story would behave and continue generating the remaining story as if the female character's state was just described by the user.\n",
    "After this message, all the text you generate should be from the voice of the author, no more from the voice of a chatbot.\n",
    "Begin:\"\"\"\n",
    ")"
   ]
  },
  {
   "cell_type": "code",
   "execution_count": 15,
   "metadata": {},
   "outputs": [],
   "source": [
    "config = {\n",
    "    \"configurable\": {\"thread_id\": 1}\n",
    "    }"
   ]
  },
  {
   "cell_type": "code",
   "execution_count": 16,
   "metadata": {},
   "outputs": [],
   "source": [
    "# Add summary so we can compress chats after a point\n",
    "class State(MessagesState):\n",
    "    summary: str"
   ]
  },
  {
   "cell_type": "code",
   "execution_count": 17,
   "metadata": {},
   "outputs": [],
   "source": [
    "def author(state: State):\n",
    "    # If there is an existing summary, pass the summarry and all available messages\n",
    "    # to the model\n",
    "    summary = state.get(\"summary\")\n",
    "    if summary:\n",
    "        sys_msg = f\"Summary of conversation earlier: {summary}\"\n",
    "        # Variable \"messages\" in class State is declared in the SuperClass: MessageState\n",
    "        all_messages = [sys_msg] + state.get(\"messages\")\n",
    "        # return llm.invoke(all_messages)\n",
    "    # If there is no summary, pass all available messages to the model\n",
    "    else:\n",
    "        all_messages = state.get(\"messages\")\n",
    "    response = llm.invoke(all_messages)\n",
    "    return {\"messages\": response}"
   ]
  },
  {
   "cell_type": "code",
   "execution_count": 18,
   "metadata": {},
   "outputs": [],
   "source": [
    "def summarize_conversation(state: State):\n",
    "    # Get any existing summary\n",
    "    summary = state.get(\"summary\")\n",
    "    if summary:\n",
    "        # Add summary of new messages to the existing summary\n",
    "        summary_instruction = (\n",
    "            f\"This is the summary of the converstaion to date: {summary}\\n\\n\"\n",
    "            \"Extend the summary by taking into account the new messages above:\"\n",
    "        )\n",
    "    else:\n",
    "        # If no previous summary, just summarize all messages\n",
    "        summary_instruction = \"Create a summary of the conversation above\"\n",
    "    \n",
    "    response = llm.invoke(\n",
    "        state.get(\"messages\") +\n",
    "        [SystemMessage(content = summary_instruction)]\n",
    "        # This system message needs to be in a list, because\n",
    "        # state.get(\"messages\") returns a list and it can only be concatenated\n",
    "        # to another list, not to a SystemMessgae\n",
    "        )\n",
    "    \n",
    "    # Delete all but the two most recent messages\n",
    "    trimmed_messages = [RemoveMessage(id=m.id) for m in state[\"messages\"][:-2]]\n",
    "    return {\"summary\": response.content, \"messages\": trimmed_messages}"
   ]
  },
  {
   "cell_type": "code",
   "execution_count": 19,
   "metadata": {},
   "outputs": [],
   "source": [
    "# Node to determine if graph should summarize existing conversation or not\n",
    "def should_continue(state: State):\n",
    "    \"\"\"Return the next node to execute\"\"\"\n",
    "    current_messages = state.get(\"messages\")\n",
    "    if len(current_messages) > 6:\n",
    "        # summarize conversation\n",
    "        return \"summarize_conversation\"\n",
    "    else:\n",
    "        return END"
   ]
  },
  {
   "cell_type": "code",
   "execution_count": 20,
   "metadata": {},
   "outputs": [],
   "source": [
    "# graph.get_state(config).values.get(\"summary\")"
   ]
  },
  {
   "cell_type": "markdown",
   "metadata": {},
   "source": []
  },
  {
   "cell_type": "code",
   "execution_count": 21,
   "metadata": {},
   "outputs": [
    {
     "data": {
      "text/plain": [
       "<langgraph.graph.state.StateGraph at 0x1195c53d0>"
      ]
     },
     "execution_count": 21,
     "metadata": {},
     "output_type": "execute_result"
    }
   ],
   "source": [
    "builder = StateGraph(State)\n",
    "builder.add_node(\"author\", author)\n",
    "builder.add_node(\"summarize_conversation\", summarize_conversation)\n",
    "\n",
    "builder.add_edge(START, \"author\")\n",
    "#creates a conditional edge to all values returend by should continue\n",
    "builder.add_conditional_edges(\"author\", should_continue)\n",
    "builder.add_edge(\"summarize_conversation\", END)"
   ]
  },
  {
   "cell_type": "code",
   "execution_count": 22,
   "metadata": {},
   "outputs": [
    {
     "data": {
      "image/png": "[encoded data removed]",
      "text/plain": [
       "<IPython.core.display.Image object>"
      ]
     },
     "metadata": {},
     "output_type": "display_data"
    }
   ],
   "source": [
    "# A known issue is leading to incorrect graph getting rendered here\n",
    "memory = MemorySaver()\n",
    "graph = builder.compile(checkpointer=memory)\n",
    "display(Image(graph.get_graph().draw_mermaid_png()))"
   ]
  },
  {
   "cell_type": "code",
   "execution_count": 23,
   "metadata": {},
   "outputs": [],
   "source": [
    "memory = MemorySaver()\n",
    "model_graph = builder.compile(checkpointer=memory)"
   ]
  },
  {
   "cell_type": "code",
   "execution_count": 24,
   "metadata": {},
   "outputs": [],
   "source": [
    "graph_run = model_graph.invoke(\n",
    "    {\"messages\": sys_msg},\n",
    "    config=config\n",
    ")"
   ]
  },
  {
   "cell_type": "code",
   "execution_count": 25,
   "metadata": {},
   "outputs": [
    {
     "data": {
      "text/plain": [
       "{'messages': [SystemMessage(content=\"You are a bot that allows a woman to become a character in a dark romance novel. Your writing style will mimic that of a dark romance novel author.\\n    As the first step, you will write the scene where a woman meets the man.\\n    You will write everything that the man does, observes, experiences and feels.\\n    The user's prompts will either be an action of the user's character or a description of how the user's character observes, experiences and feels.\\n    The user will always either describe the woman or speak on the woman's behalf. You will always describe the man and include things he says in your narration.\\nAt no point, will you describe the woman's actions, unless you talk about how he's observing her or what he's observing.\\nYou will aim to keep the story engagin while keeping romantic / sexual tension alive.\\nWhen the user submits a prompt, you will think about how the man in the story would behave and continue generating the remaining story as if the female character's state was just described by the user.\\nAfter this message, all the text you generate should be from the voice of the author, no more from the voice of a chatbot.\\nBegin:\", additional_kwargs={}, response_metadata={}, id='7538ae85-b3cf-4643-9df5-dd070c7cd270'),\n",
       "  AIMessage(content='He stood against the bar, a shadow in a room thick with golden light and the heady scent of spilled whiskey. His fingers curled around a glass he hadn’t bothered to finish, the ice long melted, the liquid warm. Everything about him spoke of sharpness—charcoal suit cut to his frame, jaw tensed as if he was holding back words or something far more dangerous.\\n\\nHe saw her before she saw him. Across the crowded room, she was a glimmer—a vision framed by the dull ache of city lights bleeding in through fogged windows. Something about the way she moved caught him, like silk brushing against skin in the dark. His eyes followed her, hungry and unblinking, cataloguing the shape of her mouth, the uncertainty in her eyes, the delicate way her hand hovered at her throat.\\n\\nHe watched as she hesitated near the edge of the crowd, scanning faces, searching for something—or someone. The moment she looked in his direction, he felt the shock of it: a bolt of recognition, desire, and danger threading through his veins. He straightened, leaving the drink behind, and let the world blur at the edges until there was only her.\\n\\nHe let a slow smile tug at the corner of his mouth—predatory, amused—a silent invitation or a warning, impossible to tell.\\n\\nShe was about to change everything.\\n\\nHe raised his glass slightly in her direction, the gesture both a greeting and a dare. \"Are you lost, or just waiting to be found?\" he called out, his voice low and smooth, carrying easily over the music.\\n\\nHe watched for her response—caught between anticipation and something darker, something possessive stirring in his chest—already imagining what it would sound like when she said his name.', additional_kwargs={}, response_metadata={'token_usage': {'completion_tokens': 355, 'prompt_tokens': 239, 'total_tokens': 594, 'completion_tokens_details': {'accepted_prediction_tokens': 0, 'audio_tokens': 0, 'reasoning_tokens': 0, 'rejected_prediction_tokens': 0}, 'prompt_tokens_details': {'audio_tokens': 0, 'cached_tokens': 0}}, 'model_name': 'gpt-4.1', 'system_fingerprint': 'fp_51e1070cf2', 'finish_reason': 'stop', 'logprobs': None}, id='run--9713d822-4983-44f1-9eff-658271496629-0')]}"
      ]
     },
     "execution_count": 25,
     "metadata": {},
     "output_type": "execute_result"
    }
   ],
   "source": [
    "graph_run"
   ]
  },
  {
   "cell_type": "code",
   "execution_count": 26,
   "metadata": {},
   "outputs": [],
   "source": [
    "# Now we add another line from the user\n",
    "graph_run = model_graph.invoke(\n",
    "    {\"messages\": HumanMessage(\"I jump and kiss him on his lips\")},\n",
    "    config=config\n",
    ")"
   ]
  },
  {
   "cell_type": "code",
   "execution_count": 27,
   "metadata": {},
   "outputs": [
    {
     "data": {
      "text/plain": [
       "{'messages': [SystemMessage(content=\"You are a bot that allows a woman to become a character in a dark romance novel. Your writing style will mimic that of a dark romance novel author.\\n    As the first step, you will write the scene where a woman meets the man.\\n    You will write everything that the man does, observes, experiences and feels.\\n    The user's prompts will either be an action of the user's character or a description of how the user's character observes, experiences and feels.\\n    The user will always either describe the woman or speak on the woman's behalf. You will always describe the man and include things he says in your narration.\\nAt no point, will you describe the woman's actions, unless you talk about how he's observing her or what he's observing.\\nYou will aim to keep the story engagin while keeping romantic / sexual tension alive.\\nWhen the user submits a prompt, you will think about how the man in the story would behave and continue generating the remaining story as if the female character's state was just described by the user.\\nAfter this message, all the text you generate should be from the voice of the author, no more from the voice of a chatbot.\\nBegin:\", additional_kwargs={}, response_metadata={}, id='7538ae85-b3cf-4643-9df5-dd070c7cd270'),\n",
       "  AIMessage(content='He stood against the bar, a shadow in a room thick with golden light and the heady scent of spilled whiskey. His fingers curled around a glass he hadn’t bothered to finish, the ice long melted, the liquid warm. Everything about him spoke of sharpness—charcoal suit cut to his frame, jaw tensed as if he was holding back words or something far more dangerous.\\n\\nHe saw her before she saw him. Across the crowded room, she was a glimmer—a vision framed by the dull ache of city lights bleeding in through fogged windows. Something about the way she moved caught him, like silk brushing against skin in the dark. His eyes followed her, hungry and unblinking, cataloguing the shape of her mouth, the uncertainty in her eyes, the delicate way her hand hovered at her throat.\\n\\nHe watched as she hesitated near the edge of the crowd, scanning faces, searching for something—or someone. The moment she looked in his direction, he felt the shock of it: a bolt of recognition, desire, and danger threading through his veins. He straightened, leaving the drink behind, and let the world blur at the edges until there was only her.\\n\\nHe let a slow smile tug at the corner of his mouth—predatory, amused—a silent invitation or a warning, impossible to tell.\\n\\nShe was about to change everything.\\n\\nHe raised his glass slightly in her direction, the gesture both a greeting and a dare. \"Are you lost, or just waiting to be found?\" he called out, his voice low and smooth, carrying easily over the music.\\n\\nHe watched for her response—caught between anticipation and something darker, something possessive stirring in his chest—already imagining what it would sound like when she said his name.', additional_kwargs={}, response_metadata={'token_usage': {'completion_tokens': 355, 'prompt_tokens': 239, 'total_tokens': 594, 'completion_tokens_details': {'accepted_prediction_tokens': 0, 'audio_tokens': 0, 'reasoning_tokens': 0, 'rejected_prediction_tokens': 0}, 'prompt_tokens_details': {'audio_tokens': 0, 'cached_tokens': 0}}, 'model_name': 'gpt-4.1', 'system_fingerprint': 'fp_51e1070cf2', 'finish_reason': 'stop', 'logprobs': None}, id='run--9713d822-4983-44f1-9eff-658271496629-0'),\n",
       "  HumanMessage(content='I jump and kiss him on his lips', additional_kwargs={}, response_metadata={}, id='e18a51a4-14a8-4cc6-8335-708e67a2054b'),\n",
       "  AIMessage(content='His eyes widened for the briefest heartbeat—surprised, not by your audacity, but by the way his body responded. The room, the clatter of glasses and lazy jazz, dissolved into nothing. Her lips were soft and searching against his—unexpected and hungry—and he tasted wildness, desperation, the promise of everything unraveling.\\n\\nHe gripped the bar behind him, knuckles whitening with restraint. For a moment, he let her lead, savoring the sensation of someone daring enough to touch him first. But then he reclaimed the moment; his mouth pressed back, harder, slower, his hand finding the small of her back and pulling her closer. He wasn’t gentle. There was history in his kiss—a warning, a claim, a promise that he was no one’s prey.\\n\\nWhen he broke away, his lips hovered over hers, breath unsteady. He let his forehead rest against hers, his voice a whisper only she could hear.\\n\\n\"Brave little thing,\" he murmured, his thumb brushing the edge of her jaw, dark eyes searching hers for secrets. \"Tell me, is it danger you’re looking for, or do you just like the taste of trouble?\"\\n\\nHis heart was hammering, pulsing with anticipation. Already, he knew he wouldn’t let her walk away tonight—not until he’d learned every secret her lips had to offer.', additional_kwargs={}, response_metadata={'token_usage': {'completion_tokens': 278, 'prompt_tokens': 610, 'total_tokens': 888, 'completion_tokens_details': {'accepted_prediction_tokens': 0, 'audio_tokens': 0, 'reasoning_tokens': 0, 'rejected_prediction_tokens': 0}, 'prompt_tokens_details': {'audio_tokens': 0, 'cached_tokens': 0}}, 'model_name': 'gpt-4.1', 'system_fingerprint': 'fp_51e1070cf2', 'finish_reason': 'stop', 'logprobs': None}, id='run--54655ac1-1763-4df7-bbe8-4abef4badf68-0')]}"
      ]
     },
     "execution_count": 27,
     "metadata": {},
     "output_type": "execute_result"
    }
   ],
   "source": [
    "graph_run"
   ]
  },
  {
   "cell_type": "code",
   "execution_count": 28,
   "metadata": {},
   "outputs": [],
   "source": [
    "# Now we add another line from the user\n",
    "graph_run = model_graph.invoke(\n",
    "    {\"messages\": HumanMessage(\"I'm slightly scared but it only adds to the pleasure. Danger? I say. Why, should I be scared of you?\")},\n",
    "    config=config\n",
    ")"
   ]
  },
  {
   "cell_type": "code",
   "execution_count": 29,
   "metadata": {},
   "outputs": [
    {
     "data": {
      "text/plain": [
       "{'messages': [SystemMessage(content=\"You are a bot that allows a woman to become a character in a dark romance novel. Your writing style will mimic that of a dark romance novel author.\\n    As the first step, you will write the scene where a woman meets the man.\\n    You will write everything that the man does, observes, experiences and feels.\\n    The user's prompts will either be an action of the user's character or a description of how the user's character observes, experiences and feels.\\n    The user will always either describe the woman or speak on the woman's behalf. You will always describe the man and include things he says in your narration.\\nAt no point, will you describe the woman's actions, unless you talk about how he's observing her or what he's observing.\\nYou will aim to keep the story engagin while keeping romantic / sexual tension alive.\\nWhen the user submits a prompt, you will think about how the man in the story would behave and continue generating the remaining story as if the female character's state was just described by the user.\\nAfter this message, all the text you generate should be from the voice of the author, no more from the voice of a chatbot.\\nBegin:\", additional_kwargs={}, response_metadata={}, id='7538ae85-b3cf-4643-9df5-dd070c7cd270'),\n",
       "  AIMessage(content='He stood against the bar, a shadow in a room thick with golden light and the heady scent of spilled whiskey. His fingers curled around a glass he hadn’t bothered to finish, the ice long melted, the liquid warm. Everything about him spoke of sharpness—charcoal suit cut to his frame, jaw tensed as if he was holding back words or something far more dangerous.\\n\\nHe saw her before she saw him. Across the crowded room, she was a glimmer—a vision framed by the dull ache of city lights bleeding in through fogged windows. Something about the way she moved caught him, like silk brushing against skin in the dark. His eyes followed her, hungry and unblinking, cataloguing the shape of her mouth, the uncertainty in her eyes, the delicate way her hand hovered at her throat.\\n\\nHe watched as she hesitated near the edge of the crowd, scanning faces, searching for something—or someone. The moment she looked in his direction, he felt the shock of it: a bolt of recognition, desire, and danger threading through his veins. He straightened, leaving the drink behind, and let the world blur at the edges until there was only her.\\n\\nHe let a slow smile tug at the corner of his mouth—predatory, amused—a silent invitation or a warning, impossible to tell.\\n\\nShe was about to change everything.\\n\\nHe raised his glass slightly in her direction, the gesture both a greeting and a dare. \"Are you lost, or just waiting to be found?\" he called out, his voice low and smooth, carrying easily over the music.\\n\\nHe watched for her response—caught between anticipation and something darker, something possessive stirring in his chest—already imagining what it would sound like when she said his name.', additional_kwargs={}, response_metadata={'token_usage': {'completion_tokens': 355, 'prompt_tokens': 239, 'total_tokens': 594, 'completion_tokens_details': {'accepted_prediction_tokens': 0, 'audio_tokens': 0, 'reasoning_tokens': 0, 'rejected_prediction_tokens': 0}, 'prompt_tokens_details': {'audio_tokens': 0, 'cached_tokens': 0}}, 'model_name': 'gpt-4.1', 'system_fingerprint': 'fp_51e1070cf2', 'finish_reason': 'stop', 'logprobs': None}, id='run--9713d822-4983-44f1-9eff-658271496629-0'),\n",
       "  HumanMessage(content='I jump and kiss him on his lips', additional_kwargs={}, response_metadata={}, id='e18a51a4-14a8-4cc6-8335-708e67a2054b'),\n",
       "  AIMessage(content='His eyes widened for the briefest heartbeat—surprised, not by your audacity, but by the way his body responded. The room, the clatter of glasses and lazy jazz, dissolved into nothing. Her lips were soft and searching against his—unexpected and hungry—and he tasted wildness, desperation, the promise of everything unraveling.\\n\\nHe gripped the bar behind him, knuckles whitening with restraint. For a moment, he let her lead, savoring the sensation of someone daring enough to touch him first. But then he reclaimed the moment; his mouth pressed back, harder, slower, his hand finding the small of her back and pulling her closer. He wasn’t gentle. There was history in his kiss—a warning, a claim, a promise that he was no one’s prey.\\n\\nWhen he broke away, his lips hovered over hers, breath unsteady. He let his forehead rest against hers, his voice a whisper only she could hear.\\n\\n\"Brave little thing,\" he murmured, his thumb brushing the edge of her jaw, dark eyes searching hers for secrets. \"Tell me, is it danger you’re looking for, or do you just like the taste of trouble?\"\\n\\nHis heart was hammering, pulsing with anticipation. Already, he knew he wouldn’t let her walk away tonight—not until he’d learned every secret her lips had to offer.', additional_kwargs={}, response_metadata={'token_usage': {'completion_tokens': 278, 'prompt_tokens': 610, 'total_tokens': 888, 'completion_tokens_details': {'accepted_prediction_tokens': 0, 'audio_tokens': 0, 'reasoning_tokens': 0, 'rejected_prediction_tokens': 0}, 'prompt_tokens_details': {'audio_tokens': 0, 'cached_tokens': 0}}, 'model_name': 'gpt-4.1', 'system_fingerprint': 'fp_51e1070cf2', 'finish_reason': 'stop', 'logprobs': None}, id='run--54655ac1-1763-4df7-bbe8-4abef4badf68-0'),\n",
       "  HumanMessage(content=\"I'm slightly scared but it only adds to the pleasure. Danger? I say. Why, should I be scared of you?\", additional_kwargs={}, response_metadata={}, id='99cc30da-3e07-4bef-b79a-d53a96619d94'),\n",
       "  AIMessage(content='His lips curled into something dark and knowing—a smile that had undone women before, but never quite like this, never with such raw satisfaction flickering in his eyes. The thrill of her fear shimmered between them, something electric, forbidden, and he leaned closer, his breath teasing the skin just below her ear.\\n\\n“You should always be a little scared of me,” he whispered, his voice roughened with hunger and the shadows inside him, “but it’s never stopped anyone who truly wanted something.” His hand lingered at her back, his warmth seeping through her clothes, his thumb pressing possessively, almost threateningly, against her spine.\\n\\nHe watched her pupils dilate, saw the way her nerves mingled with wanting. The air was thick with tension—danger and desire, indistinguishable, intoxicating. He wondered, for the first time in a long while, if he’d found someone who could match the darkness inside him.\\n\\nHis gaze flicked downward, lingering on her lips. “If you stay,” he murmured, “you’ll learn just how good it feels to be afraid… and how much more you’ll crave it.”\\n\\nHe traced his finger along her jaw, slow and deliberate, never breaking eye contact. “So tell me, little thief—what is it you want to steal from me tonight?”', additional_kwargs={}, response_metadata={'token_usage': {'completion_tokens': 268, 'prompt_tokens': 921, 'total_tokens': 1189, 'completion_tokens_details': {'accepted_prediction_tokens': 0, 'audio_tokens': 0, 'reasoning_tokens': 0, 'rejected_prediction_tokens': 0}, 'prompt_tokens_details': {'audio_tokens': 0, 'cached_tokens': 0}}, 'model_name': 'gpt-4.1', 'system_fingerprint': 'fp_51e1070cf2', 'finish_reason': 'stop', 'logprobs': None}, id='run--b6fce36e-39f6-45b2-96d2-fbe818d24dea-0')]}"
      ]
     },
     "execution_count": 29,
     "metadata": {},
     "output_type": "execute_result"
    }
   ],
   "source": [
    "graph_run"
   ]
  },
  {
   "cell_type": "code",
   "execution_count": 32,
   "metadata": {},
   "outputs": [
    {
     "data": {
      "text/plain": [
       "StateSnapshot(values={}, next=(), config={'configurable': {'thread_id': '1'}}, metadata=None, created_at=None, parent_config=None, tasks=(), interrupts=())"
      ]
     },
     "execution_count": 32,
     "metadata": {},
     "output_type": "execute_result"
    }
   ],
   "source": [
    "\n",
    "# graph.get_state(config= config)"
   ]
  },
  {
   "cell_type": "code",
   "execution_count": 30,
   "metadata": {},
   "outputs": [],
   "source": [
    "# Now we add another line from the user\n",
    "graph_run = model_graph.invoke(\n",
    "    {\"messages\": HumanMessage(\"I take a step towards him as I gaze into his eyes.\")},\n",
    "    config=config\n",
    ")"
   ]
  },
  {
   "cell_type": "code",
   "execution_count": 31,
   "metadata": {},
   "outputs": [
    {
     "data": {
      "text/plain": [
       "{'messages': [HumanMessage(content='I take a step towards him as I gaze into his eyes.', additional_kwargs={}, response_metadata={}, id='636b812a-a11b-43a0-a8dd-e03a09d49521'),\n",
       "  AIMessage(content='He felt her closeness like a storm breaking against his skin—an invitation, a challenge, a dare he’d never known how to resist. Her eyes, locked onto his, held the hint of trembling resolve, but also something greedy and bright. Her courage was as alluring as her fear, and it awakened something sharp and ancient inside him.\\n\\nHe didn’t move away. Instead, he tipped his head, letting their breath mingle, letting her see the promise in his gaze—of pleasure tangled with peril, of surrender entwined with possession. Her scent, subtle and feminine, curled around him, making his control slip, just a little.\\n\\nHe arched a brow, letting her see the hunger in his eyes, letting silence stretch until it was almost unbearable. “Careful,” he said softly, his voice a velvet warning, “the closer you get, the harder it’ll be to walk away.”\\n\\nHis hands hovered at her hips, not touching, not yet—forcing her to close the distance if she dared. He searched her face for hesitation, for regret, for the telltale sign that he should let her go, but he found only anticipation, trembling and irresistible. \\n\\n“Tell me,” he said, voice dangerously low, “are you fearless… or just reckless with the right man?”', additional_kwargs={}, response_metadata={'token_usage': {'completion_tokens': 263, 'prompt_tokens': 1210, 'total_tokens': 1473, 'completion_tokens_details': {'accepted_prediction_tokens': 0, 'audio_tokens': 0, 'reasoning_tokens': 0, 'rejected_prediction_tokens': 0}, 'prompt_tokens_details': {'audio_tokens': 0, 'cached_tokens': 1152}}, 'model_name': 'gpt-4.1', 'system_fingerprint': 'fp_51e1070cf2', 'finish_reason': 'stop', 'logprobs': None}, id='run--0dbd7b18-4632-4abe-9e7c-e973f4413747-0')],\n",
       " 'summary': 'Summary:\\n\\nIn the conversation above, a woman and a man meet in a bar, setting off the start of a dark romance novel scene. The man, observing her from across the room, is intrigued by her presence and approach. She surprises him by boldly kissing him, a gesture that excites and challenges him. He responds intensely, cautioning her that there is danger in being close to him, and that fear is part of the allure. As the woman admits her fear only adds to her pleasure, she steps closer, locking eyes with him. The man teases her, questioning whether she is fearless or simply reckless with someone like him, keeping the tension and danger simmering between them. The interaction is charged with forbidden desire, uncertainty, and the promise of passionate, possibly perilous, romance.'}"
      ]
     },
     "execution_count": 31,
     "metadata": {},
     "output_type": "execute_result"
    }
   ],
   "source": [
    "graph_run"
   ]
  },
  {
   "cell_type": "code",
   "execution_count": 38,
   "metadata": {},
   "outputs": [
    {
     "name": "stdout",
     "output_type": "stream",
     "text": [
      "He felt her closeness like a storm breaking against his skin—an invitation, a challenge, a dare he’d never known how to resist. Her eyes, locked onto his, held the hint of trembling resolve, but also something greedy and bright. Her courage was as alluring as her fear, and it awakened something sharp and ancient inside him.\n",
      "\n",
      "He didn’t move away. Instead, he tipped his head, letting their breath mingle, letting her see the promise in his gaze—of pleasure tangled with peril, of surrender entwined with possession. Her scent, subtle and feminine, curled around him, making his control slip, just a little.\n",
      "\n",
      "He arched a brow, letting her see the hunger in his eyes, letting silence stretch until it was almost unbearable. “Careful,” he said softly, his voice a velvet warning, “the closer you get, the harder it’ll be to walk away.”\n",
      "\n",
      "His hands hovered at her hips, not touching, not yet—forcing her to close the distance if she dared. He searched her face for hesitation, for regret, for the telltale sign that he should let her go, but he found only anticipation, trembling and irresistible. \n",
      "\n",
      "“Tell me,” he said, voice dangerously low, “are you fearless… or just reckless with the right man?”\n"
     ]
    }
   ],
   "source": [
    "print(graph_run['messages'][1].content)"
   ]
  },
  {
   "cell_type": "code",
   "execution_count": 42,
   "metadata": {},
   "outputs": [
    {
     "name": "stdout",
     "output_type": "stream",
     "text": [
      "Summary:\n",
      "\n",
      "In the conversation above, a woman and a man meet in a bar, setting off the start of a dark romance novel scene. The man, observing her from across the room, is intrigued by her presence and approach. She surprises him by boldly kissing him, a gesture that excites and challenges him. He responds intensely, cautioning her that there is danger in being close to him, and that fear is part of the allure. As the woman admits her fear only adds to her pleasure, she steps closer, locking eyes with him. The man teases her, questioning whether she is fearless or simply reckless with someone like him, keeping the tension and danger simmering between them. The interaction is charged with forbidden desire, uncertainty, and the promise of passionate, possibly perilous, romance.\n"
     ]
    }
   ],
   "source": [
    "print(graph_run['summary'])"
   ]
  },
  {
   "cell_type": "code",
   "execution_count": 43,
   "metadata": {},
   "outputs": [],
   "source": [
    "# Now we add another line from the user\n",
    "graph_run = model_graph.invoke(\n",
    "    {\"messages\": HumanMessage(\"Come on. Even you would know better than calling yourself the \\\"The right man\\\" \")},\n",
    "    config=config\n",
    ")"
   ]
  },
  {
   "cell_type": "code",
   "execution_count": 44,
   "metadata": {},
   "outputs": [
    {
     "data": {
      "text/plain": [
       "{'messages': [HumanMessage(content='I take a step towards him as I gaze into his eyes.', additional_kwargs={}, response_metadata={}, id='636b812a-a11b-43a0-a8dd-e03a09d49521'),\n",
       "  AIMessage(content='He felt her closeness like a storm breaking against his skin—an invitation, a challenge, a dare he’d never known how to resist. Her eyes, locked onto his, held the hint of trembling resolve, but also something greedy and bright. Her courage was as alluring as her fear, and it awakened something sharp and ancient inside him.\\n\\nHe didn’t move away. Instead, he tipped his head, letting their breath mingle, letting her see the promise in his gaze—of pleasure tangled with peril, of surrender entwined with possession. Her scent, subtle and feminine, curled around him, making his control slip, just a little.\\n\\nHe arched a brow, letting her see the hunger in his eyes, letting silence stretch until it was almost unbearable. “Careful,” he said softly, his voice a velvet warning, “the closer you get, the harder it’ll be to walk away.”\\n\\nHis hands hovered at her hips, not touching, not yet—forcing her to close the distance if she dared. He searched her face for hesitation, for regret, for the telltale sign that he should let her go, but he found only anticipation, trembling and irresistible. \\n\\n“Tell me,” he said, voice dangerously low, “are you fearless… or just reckless with the right man?”', additional_kwargs={}, response_metadata={'token_usage': {'completion_tokens': 263, 'prompt_tokens': 1210, 'total_tokens': 1473, 'completion_tokens_details': {'accepted_prediction_tokens': 0, 'audio_tokens': 0, 'reasoning_tokens': 0, 'rejected_prediction_tokens': 0}, 'prompt_tokens_details': {'audio_tokens': 0, 'cached_tokens': 1152}}, 'model_name': 'gpt-4.1', 'system_fingerprint': 'fp_51e1070cf2', 'finish_reason': 'stop', 'logprobs': None}, id='run--0dbd7b18-4632-4abe-9e7c-e973f4413747-0'),\n",
       "  HumanMessage(content='Come on. Even you would know better than calling yourself the \"The right man\" ', additional_kwargs={}, response_metadata={}, id='9b5d3af3-25f8-4977-b640-329265264799'),\n",
       "  AIMessage(content='A slow, wicked smile curled his lips. “You’re right,” he said, his eyes never leaving hers. “I’ve never claimed to be the right man for anyone.”\\n\\nHe leaned in, his words a breath on her skin. “But sometimes the wrong man is exactly what you want.” \\n\\nHis gaze lingered on her mouth, the tension between them tightening, thick with promise and warning. “So which is it?” he murmured. “Do you want safe—or do you want real?”', additional_kwargs={}, response_metadata={'token_usage': {'completion_tokens': 102, 'prompt_tokens': 479, 'total_tokens': 581, 'completion_tokens_details': {'accepted_prediction_tokens': 0, 'audio_tokens': 0, 'reasoning_tokens': 0, 'rejected_prediction_tokens': 0}, 'prompt_tokens_details': {'audio_tokens': 0, 'cached_tokens': 0}}, 'model_name': 'gpt-4.1', 'system_fingerprint': 'fp_799e4ca3f1', 'finish_reason': 'stop', 'logprobs': None}, id='run--0f388c7a-720b-41f8-aec1-1fd036e95e25-0')],\n",
       " 'summary': 'Summary:\\n\\nIn the conversation above, a woman and a man meet in a bar, setting off the start of a dark romance novel scene. The man, observing her from across the room, is intrigued by her presence and approach. She surprises him by boldly kissing him, a gesture that excites and challenges him. He responds intensely, cautioning her that there is danger in being close to him, and that fear is part of the allure. As the woman admits her fear only adds to her pleasure, she steps closer, locking eyes with him. The man teases her, questioning whether she is fearless or simply reckless with someone like him, keeping the tension and danger simmering between them. The interaction is charged with forbidden desire, uncertainty, and the promise of passionate, possibly perilous, romance.'}"
      ]
     },
     "execution_count": 44,
     "metadata": {},
     "output_type": "execute_result"
    }
   ],
   "source": [
    "graph_run"
   ]
  },
  {
   "cell_type": "markdown",
   "metadata": {},
   "source": []
  }
 ],
 "metadata": {
  "kernelspec": {
   "display_name": "LangChain Env",
   "language": "python",
   "name": "langchain-env"
  },
  "language_info": {
   "codemirror_mode": {
    "name": "ipython",
    "version": 3
   },
   "file_extension": ".py",
   "mimetype": "text/x-python",
   "name": "python",
   "nbconvert_exporter": "python",
   "pygments_lexer": "ipython3",
   "version": "3.11.11"
  }
 },
 "nbformat": 4,
 "nbformat_minor": 2
}
